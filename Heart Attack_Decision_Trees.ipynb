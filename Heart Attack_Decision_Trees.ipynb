{
 "cells": [
  {
   "cell_type": "code",
   "execution_count": 29,
   "metadata": {
    "colab": {
     "base_uri": "https://localhost:8080/",
     "height": 429
    },
    "executionInfo": {
     "elapsed": 2164,
     "status": "error",
     "timestamp": 1638773929802,
     "user": {
      "displayName": "ADITYA CHAUHAN",
      "photoUrl": "https://lh3.googleusercontent.com/a-/AOh14GgTVLR3eVYgwEiknljwUC_xAl2-2F94ukwwfwKx1Q=s64",
      "userId": "16268924853158550743"
     },
     "user_tz": -330
    },
    "id": "1BKN5NyIiQGJ",
    "outputId": "c603fe78-1c15-4c6d-cff5-32e5f8c67af3",
    "scrolled": true
   },
   "outputs": [],
   "source": [
    "import numpy as np\n",
    "import pandas as pd\n",
    "import matplotlib.pyplot as plt\n",
    "import seaborn as sns #for plotting\n",
    "import warnings\n",
    "from sklearn.cluster import KMeans\n",
    "import warnings\n",
    "from sklearn.ensemble import RandomForestClassifier #for the model\n",
    "from sklearn.tree import DecisionTreeClassifier\n",
    "from sklearn.tree import export_graphviz #plot tree\n",
    "from sklearn.metrics import roc_curve, auc #for model evaluation\n",
    "from sklearn.metrics import classification_report #for model evaluation\n",
    "from sklearn.metrics import confusion_matrix #for model evaluation\n",
    "from sklearn.model_selection import train_test_split #for data splitting\n",
    "from sklearn.feature_selection import RFE\n",
    "from sklearn.model_selection import GridSearchCV\n",
    "from sklearn.linear_model import LogisticRegression\n",
    "from sklearn.metrics import accuracy_score\n",
    "from sklearn import svm\n",
    "import statsmodels.api as sm\n",
    "#import eli5 #for purmutation importance\n",
    "#from eli5.sklearn import PermutationImportance\n",
    "#import shap #for SHAP values\n",
    "#from pdpbox import pdp, info_plots #for partial plots\n",
    "np.random.seed(123) #ensure reproducibility\n",
    "pd.options.mode.chained_assignment = None  #hide any pandas warnings\n",
    "import scipy.stats as stats\n",
    "import pylab\n",
    "%matplotlib inline\n",
    "pd.pandas.set_option('display.max_columns',None)\n",
    "from statsmodels.tools.sm_exceptions import ConvergenceWarning\n",
    "warnings.simplefilter('ignore', ConvergenceWarning)\n"
   ]
  },
  {
   "cell_type": "code",
   "execution_count": 30,
   "metadata": {
    "executionInfo": {
     "elapsed": 1118,
     "status": "aborted",
     "timestamp": 1638773929736,
     "user": {
      "displayName": "ADITYA CHAUHAN",
      "photoUrl": "https://lh3.googleusercontent.com/a-/AOh14GgTVLR3eVYgwEiknljwUC_xAl2-2F94ukwwfwKx1Q=s64",
      "userId": "16268924853158550743"
     },
     "user_tz": -330
    },
    "id": "NswTH9rhiQGO"
   },
   "outputs": [],
   "source": [
    "dt = pd.read_csv(\"heart.csv\")"
   ]
  },
  {
   "cell_type": "code",
   "execution_count": 31,
   "metadata": {
    "executionInfo": {
     "elapsed": 1117,
     "status": "aborted",
     "timestamp": 1638773929738,
     "user": {
      "displayName": "ADITYA CHAUHAN",
      "photoUrl": "https://lh3.googleusercontent.com/a-/AOh14GgTVLR3eVYgwEiknljwUC_xAl2-2F94ukwwfwKx1Q=s64",
      "userId": "16268924853158550743"
     },
     "user_tz": -330
    },
    "id": "0ule9kBhiQGP"
   },
   "outputs": [
    {
     "data": {
      "text/html": [
       "<div>\n",
       "<style scoped>\n",
       "    .dataframe tbody tr th:only-of-type {\n",
       "        vertical-align: middle;\n",
       "    }\n",
       "\n",
       "    .dataframe tbody tr th {\n",
       "        vertical-align: top;\n",
       "    }\n",
       "\n",
       "    .dataframe thead th {\n",
       "        text-align: right;\n",
       "    }\n",
       "</style>\n",
       "<table border=\"1\" class=\"dataframe\">\n",
       "  <thead>\n",
       "    <tr style=\"text-align: right;\">\n",
       "      <th></th>\n",
       "      <th>age</th>\n",
       "      <th>sex</th>\n",
       "      <th>cp</th>\n",
       "      <th>trestbps</th>\n",
       "      <th>chol</th>\n",
       "      <th>fbs</th>\n",
       "      <th>restecg</th>\n",
       "      <th>thalach</th>\n",
       "      <th>exang</th>\n",
       "      <th>oldpeak</th>\n",
       "      <th>slope</th>\n",
       "      <th>ca</th>\n",
       "      <th>thal</th>\n",
       "      <th>target</th>\n",
       "    </tr>\n",
       "  </thead>\n",
       "  <tbody>\n",
       "    <tr>\n",
       "      <th>0</th>\n",
       "      <td>63</td>\n",
       "      <td>1</td>\n",
       "      <td>3</td>\n",
       "      <td>145</td>\n",
       "      <td>233</td>\n",
       "      <td>1</td>\n",
       "      <td>0</td>\n",
       "      <td>150</td>\n",
       "      <td>0</td>\n",
       "      <td>2.3</td>\n",
       "      <td>0</td>\n",
       "      <td>0</td>\n",
       "      <td>1</td>\n",
       "      <td>1</td>\n",
       "    </tr>\n",
       "    <tr>\n",
       "      <th>1</th>\n",
       "      <td>37</td>\n",
       "      <td>1</td>\n",
       "      <td>2</td>\n",
       "      <td>130</td>\n",
       "      <td>250</td>\n",
       "      <td>0</td>\n",
       "      <td>1</td>\n",
       "      <td>187</td>\n",
       "      <td>0</td>\n",
       "      <td>3.5</td>\n",
       "      <td>0</td>\n",
       "      <td>0</td>\n",
       "      <td>2</td>\n",
       "      <td>1</td>\n",
       "    </tr>\n",
       "    <tr>\n",
       "      <th>2</th>\n",
       "      <td>41</td>\n",
       "      <td>0</td>\n",
       "      <td>1</td>\n",
       "      <td>130</td>\n",
       "      <td>204</td>\n",
       "      <td>0</td>\n",
       "      <td>0</td>\n",
       "      <td>172</td>\n",
       "      <td>0</td>\n",
       "      <td>1.4</td>\n",
       "      <td>2</td>\n",
       "      <td>0</td>\n",
       "      <td>2</td>\n",
       "      <td>1</td>\n",
       "    </tr>\n",
       "    <tr>\n",
       "      <th>3</th>\n",
       "      <td>56</td>\n",
       "      <td>1</td>\n",
       "      <td>1</td>\n",
       "      <td>120</td>\n",
       "      <td>236</td>\n",
       "      <td>0</td>\n",
       "      <td>1</td>\n",
       "      <td>178</td>\n",
       "      <td>0</td>\n",
       "      <td>0.8</td>\n",
       "      <td>2</td>\n",
       "      <td>0</td>\n",
       "      <td>2</td>\n",
       "      <td>1</td>\n",
       "    </tr>\n",
       "    <tr>\n",
       "      <th>4</th>\n",
       "      <td>57</td>\n",
       "      <td>0</td>\n",
       "      <td>0</td>\n",
       "      <td>120</td>\n",
       "      <td>354</td>\n",
       "      <td>0</td>\n",
       "      <td>1</td>\n",
       "      <td>163</td>\n",
       "      <td>1</td>\n",
       "      <td>0.6</td>\n",
       "      <td>2</td>\n",
       "      <td>0</td>\n",
       "      <td>2</td>\n",
       "      <td>1</td>\n",
       "    </tr>\n",
       "    <tr>\n",
       "      <th>5</th>\n",
       "      <td>57</td>\n",
       "      <td>1</td>\n",
       "      <td>0</td>\n",
       "      <td>140</td>\n",
       "      <td>192</td>\n",
       "      <td>0</td>\n",
       "      <td>1</td>\n",
       "      <td>148</td>\n",
       "      <td>0</td>\n",
       "      <td>0.4</td>\n",
       "      <td>1</td>\n",
       "      <td>0</td>\n",
       "      <td>1</td>\n",
       "      <td>1</td>\n",
       "    </tr>\n",
       "    <tr>\n",
       "      <th>6</th>\n",
       "      <td>56</td>\n",
       "      <td>0</td>\n",
       "      <td>1</td>\n",
       "      <td>140</td>\n",
       "      <td>294</td>\n",
       "      <td>0</td>\n",
       "      <td>0</td>\n",
       "      <td>153</td>\n",
       "      <td>0</td>\n",
       "      <td>1.3</td>\n",
       "      <td>1</td>\n",
       "      <td>0</td>\n",
       "      <td>2</td>\n",
       "      <td>1</td>\n",
       "    </tr>\n",
       "    <tr>\n",
       "      <th>7</th>\n",
       "      <td>44</td>\n",
       "      <td>1</td>\n",
       "      <td>1</td>\n",
       "      <td>120</td>\n",
       "      <td>263</td>\n",
       "      <td>0</td>\n",
       "      <td>1</td>\n",
       "      <td>173</td>\n",
       "      <td>0</td>\n",
       "      <td>0.0</td>\n",
       "      <td>2</td>\n",
       "      <td>0</td>\n",
       "      <td>3</td>\n",
       "      <td>1</td>\n",
       "    </tr>\n",
       "    <tr>\n",
       "      <th>8</th>\n",
       "      <td>52</td>\n",
       "      <td>1</td>\n",
       "      <td>2</td>\n",
       "      <td>172</td>\n",
       "      <td>199</td>\n",
       "      <td>1</td>\n",
       "      <td>1</td>\n",
       "      <td>162</td>\n",
       "      <td>0</td>\n",
       "      <td>0.5</td>\n",
       "      <td>2</td>\n",
       "      <td>0</td>\n",
       "      <td>3</td>\n",
       "      <td>1</td>\n",
       "    </tr>\n",
       "    <tr>\n",
       "      <th>9</th>\n",
       "      <td>57</td>\n",
       "      <td>1</td>\n",
       "      <td>2</td>\n",
       "      <td>150</td>\n",
       "      <td>168</td>\n",
       "      <td>0</td>\n",
       "      <td>1</td>\n",
       "      <td>174</td>\n",
       "      <td>0</td>\n",
       "      <td>1.6</td>\n",
       "      <td>2</td>\n",
       "      <td>0</td>\n",
       "      <td>2</td>\n",
       "      <td>1</td>\n",
       "    </tr>\n",
       "  </tbody>\n",
       "</table>\n",
       "</div>"
      ],
      "text/plain": [
       "   age  sex  cp  trestbps  chol  fbs  restecg  thalach  exang  oldpeak  slope  \\\n",
       "0   63    1   3       145   233    1        0      150      0      2.3      0   \n",
       "1   37    1   2       130   250    0        1      187      0      3.5      0   \n",
       "2   41    0   1       130   204    0        0      172      0      1.4      2   \n",
       "3   56    1   1       120   236    0        1      178      0      0.8      2   \n",
       "4   57    0   0       120   354    0        1      163      1      0.6      2   \n",
       "5   57    1   0       140   192    0        1      148      0      0.4      1   \n",
       "6   56    0   1       140   294    0        0      153      0      1.3      1   \n",
       "7   44    1   1       120   263    0        1      173      0      0.0      2   \n",
       "8   52    1   2       172   199    1        1      162      0      0.5      2   \n",
       "9   57    1   2       150   168    0        1      174      0      1.6      2   \n",
       "\n",
       "   ca  thal  target  \n",
       "0   0     1       1  \n",
       "1   0     2       1  \n",
       "2   0     2       1  \n",
       "3   0     2       1  \n",
       "4   0     2       1  \n",
       "5   0     1       1  \n",
       "6   0     2       1  \n",
       "7   0     3       1  \n",
       "8   0     3       1  \n",
       "9   0     2       1  "
      ]
     },
     "execution_count": 31,
     "metadata": {},
     "output_type": "execute_result"
    }
   ],
   "source": [
    "dt.head(10)"
   ]
  },
  {
   "cell_type": "code",
   "execution_count": 10,
   "metadata": {
    "executionInfo": {
     "elapsed": 1116,
     "status": "aborted",
     "timestamp": 1638773929738,
     "user": {
      "displayName": "ADITYA CHAUHAN",
      "photoUrl": "https://lh3.googleusercontent.com/a-/AOh14GgTVLR3eVYgwEiknljwUC_xAl2-2F94ukwwfwKx1Q=s64",
      "userId": "16268924853158550743"
     },
     "user_tz": -330
    },
    "id": "KfVUAwxjiQGQ"
   },
   "outputs": [
    {
     "data": {
      "text/html": [
       "<div>\n",
       "<style scoped>\n",
       "    .dataframe tbody tr th:only-of-type {\n",
       "        vertical-align: middle;\n",
       "    }\n",
       "\n",
       "    .dataframe tbody tr th {\n",
       "        vertical-align: top;\n",
       "    }\n",
       "\n",
       "    .dataframe thead th {\n",
       "        text-align: right;\n",
       "    }\n",
       "</style>\n",
       "<table border=\"1\" class=\"dataframe\">\n",
       "  <thead>\n",
       "    <tr style=\"text-align: right;\">\n",
       "      <th></th>\n",
       "      <th>age</th>\n",
       "      <th>sex</th>\n",
       "      <th>cp</th>\n",
       "      <th>trestbps</th>\n",
       "      <th>chol</th>\n",
       "      <th>fbs</th>\n",
       "      <th>restecg</th>\n",
       "      <th>thalach</th>\n",
       "      <th>exang</th>\n",
       "      <th>oldpeak</th>\n",
       "      <th>slope</th>\n",
       "      <th>ca</th>\n",
       "      <th>thal</th>\n",
       "      <th>target</th>\n",
       "    </tr>\n",
       "  </thead>\n",
       "  <tbody>\n",
       "    <tr>\n",
       "      <th>298</th>\n",
       "      <td>57</td>\n",
       "      <td>0</td>\n",
       "      <td>0</td>\n",
       "      <td>140</td>\n",
       "      <td>241</td>\n",
       "      <td>0</td>\n",
       "      <td>1</td>\n",
       "      <td>123</td>\n",
       "      <td>1</td>\n",
       "      <td>0.2</td>\n",
       "      <td>1</td>\n",
       "      <td>0</td>\n",
       "      <td>3</td>\n",
       "      <td>0</td>\n",
       "    </tr>\n",
       "    <tr>\n",
       "      <th>299</th>\n",
       "      <td>45</td>\n",
       "      <td>1</td>\n",
       "      <td>3</td>\n",
       "      <td>110</td>\n",
       "      <td>264</td>\n",
       "      <td>0</td>\n",
       "      <td>1</td>\n",
       "      <td>132</td>\n",
       "      <td>0</td>\n",
       "      <td>1.2</td>\n",
       "      <td>1</td>\n",
       "      <td>0</td>\n",
       "      <td>3</td>\n",
       "      <td>0</td>\n",
       "    </tr>\n",
       "    <tr>\n",
       "      <th>300</th>\n",
       "      <td>68</td>\n",
       "      <td>1</td>\n",
       "      <td>0</td>\n",
       "      <td>144</td>\n",
       "      <td>193</td>\n",
       "      <td>1</td>\n",
       "      <td>1</td>\n",
       "      <td>141</td>\n",
       "      <td>0</td>\n",
       "      <td>3.4</td>\n",
       "      <td>1</td>\n",
       "      <td>2</td>\n",
       "      <td>3</td>\n",
       "      <td>0</td>\n",
       "    </tr>\n",
       "    <tr>\n",
       "      <th>301</th>\n",
       "      <td>57</td>\n",
       "      <td>1</td>\n",
       "      <td>0</td>\n",
       "      <td>130</td>\n",
       "      <td>131</td>\n",
       "      <td>0</td>\n",
       "      <td>1</td>\n",
       "      <td>115</td>\n",
       "      <td>1</td>\n",
       "      <td>1.2</td>\n",
       "      <td>1</td>\n",
       "      <td>1</td>\n",
       "      <td>3</td>\n",
       "      <td>0</td>\n",
       "    </tr>\n",
       "    <tr>\n",
       "      <th>302</th>\n",
       "      <td>57</td>\n",
       "      <td>0</td>\n",
       "      <td>1</td>\n",
       "      <td>130</td>\n",
       "      <td>236</td>\n",
       "      <td>0</td>\n",
       "      <td>0</td>\n",
       "      <td>174</td>\n",
       "      <td>0</td>\n",
       "      <td>0.0</td>\n",
       "      <td>1</td>\n",
       "      <td>1</td>\n",
       "      <td>2</td>\n",
       "      <td>0</td>\n",
       "    </tr>\n",
       "  </tbody>\n",
       "</table>\n",
       "</div>"
      ],
      "text/plain": [
       "     age  sex  cp  trestbps  chol  fbs  restecg  thalach  exang  oldpeak  \\\n",
       "298   57    0   0       140   241    0        1      123      1      0.2   \n",
       "299   45    1   3       110   264    0        1      132      0      1.2   \n",
       "300   68    1   0       144   193    1        1      141      0      3.4   \n",
       "301   57    1   0       130   131    0        1      115      1      1.2   \n",
       "302   57    0   1       130   236    0        0      174      0      0.0   \n",
       "\n",
       "     slope  ca  thal  target  \n",
       "298      1   0     3       0  \n",
       "299      1   0     3       0  \n",
       "300      1   2     3       0  \n",
       "301      1   1     3       0  \n",
       "302      1   1     2       0  "
      ]
     },
     "execution_count": 10,
     "metadata": {},
     "output_type": "execute_result"
    }
   ],
   "source": [
    "dt.tail()"
   ]
  },
  {
   "cell_type": "code",
   "execution_count": 11,
   "metadata": {
    "executionInfo": {
     "elapsed": 1118,
     "status": "aborted",
     "timestamp": 1638773929740,
     "user": {
      "displayName": "ADITYA CHAUHAN",
      "photoUrl": "https://lh3.googleusercontent.com/a-/AOh14GgTVLR3eVYgwEiknljwUC_xAl2-2F94ukwwfwKx1Q=s64",
      "userId": "16268924853158550743"
     },
     "user_tz": -330
    },
    "id": "qCiS-MrQiQGR"
   },
   "outputs": [
    {
     "data": {
      "text/plain": [
       "Index(['age', 'sex', 'cp', 'trestbps', 'chol', 'fbs', 'restecg', 'thalach',\n",
       "       'exang', 'oldpeak', 'slope', 'ca', 'thal', 'target'],\n",
       "      dtype='object')"
      ]
     },
     "execution_count": 11,
     "metadata": {},
     "output_type": "execute_result"
    }
   ],
   "source": [
    "dt.columns"
   ]
  },
  {
   "cell_type": "code",
   "execution_count": 32,
   "metadata": {
    "executionInfo": {
     "elapsed": 94,
     "status": "aborted",
     "timestamp": 1638773929740,
     "user": {
      "displayName": "ADITYA CHAUHAN",
      "photoUrl": "https://lh3.googleusercontent.com/a-/AOh14GgTVLR3eVYgwEiknljwUC_xAl2-2F94ukwwfwKx1Q=s64",
      "userId": "16268924853158550743"
     },
     "user_tz": -330
    },
    "id": "OBUmOAcPiQGR"
   },
   "outputs": [],
   "source": [
    "dt.columns = ['age', 'gender', 'chest_pain_type', 'resting_blood_pressure', 'cholesterol', 'fasting_blood_sugar', 'rest_ecg', 'max_heart_rate_achieved',\n",
    "       'exercise_induced_angina', 'st_depression', 'st_slope', 'num_major_vessels', 'thalassemia', 'target']"
   ]
  },
  {
   "cell_type": "code",
   "execution_count": 33,
   "metadata": {
    "executionInfo": {
     "elapsed": 94,
     "status": "aborted",
     "timestamp": 1638773929741,
     "user": {
      "displayName": "ADITYA CHAUHAN",
      "photoUrl": "https://lh3.googleusercontent.com/a-/AOh14GgTVLR3eVYgwEiknljwUC_xAl2-2F94ukwwfwKx1Q=s64",
      "userId": "16268924853158550743"
     },
     "user_tz": -330
    },
    "id": "V0MCormXiQGS"
   },
   "outputs": [],
   "source": [
    "dt['gender'][dt['gender'] == 0] = 'female'\n",
    "dt['gender'][dt['gender'] == 1] = 'male'\n",
    "\n",
    "dt['chest_pain_type'][dt['chest_pain_type'] == 1] = 'typical angina'\n",
    "dt['chest_pain_type'][dt['chest_pain_type'] == 2] = 'atypical angina'\n",
    "dt['chest_pain_type'][dt['chest_pain_type'] == 3] = 'non-anginal pain'\n",
    "dt['chest_pain_type'][dt['chest_pain_type'] == 4] = 'asymptomatic'\n",
    "\n",
    "dt['fasting_blood_sugar'][dt['fasting_blood_sugar'] == 0] = 'lower than 120mg/ml'\n",
    "dt['fasting_blood_sugar'][dt['fasting_blood_sugar'] == 1] = 'greater than 120mg/ml'\n",
    "\n",
    "dt['rest_ecg'][dt['rest_ecg'] == 0] = 'normal'\n",
    "dt['rest_ecg'][dt['rest_ecg'] == 1] = 'ST-T wave abnormality'\n",
    "dt['rest_ecg'][dt['rest_ecg'] == 2] = 'left ventricular hypertrophy'\n",
    "\n",
    "dt['exercise_induced_angina'][dt['exercise_induced_angina'] == 0] = 'no'\n",
    "dt['exercise_induced_angina'][dt['exercise_induced_angina'] == 1] = 'yes'\n",
    "\n",
    "dt['st_slope'][dt['st_slope'] == 1] = 'upsloping'\n",
    "dt['st_slope'][dt['st_slope'] == 2] = 'flat'\n",
    "dt['st_slope'][dt['st_slope'] == 3] = 'downsloping'\n",
    "\n",
    "dt['thalassemia'][dt['thalassemia'] == 1] = 'normal'\n",
    "dt['thalassemia'][dt['thalassemia'] == 2] = 'fixed defect'\n",
    "dt['thalassemia'][dt['thalassemia'] == 3] = 'reversable defect'"
   ]
  },
  {
   "cell_type": "code",
   "execution_count": 14,
   "metadata": {
    "executionInfo": {
     "elapsed": 93,
     "status": "aborted",
     "timestamp": 1638773929741,
     "user": {
      "displayName": "ADITYA CHAUHAN",
      "photoUrl": "https://lh3.googleusercontent.com/a-/AOh14GgTVLR3eVYgwEiknljwUC_xAl2-2F94ukwwfwKx1Q=s64",
      "userId": "16268924853158550743"
     },
     "user_tz": -330
    },
    "id": "WxWjO_4ziQGT"
   },
   "outputs": [
    {
     "data": {
      "text/plain": [
       "age                          int64\n",
       "gender                      object\n",
       "chest_pain_type             object\n",
       "resting_blood_pressure       int64\n",
       "cholesterol                  int64\n",
       "fasting_blood_sugar         object\n",
       "rest_ecg                    object\n",
       "max_heart_rate_achieved      int64\n",
       "exercise_induced_angina     object\n",
       "st_depression              float64\n",
       "st_slope                    object\n",
       "num_major_vessels            int64\n",
       "thalassemia                 object\n",
       "target                       int64\n",
       "dtype: object"
      ]
     },
     "execution_count": 14,
     "metadata": {},
     "output_type": "execute_result"
    }
   ],
   "source": [
    "dt.dtypes"
   ]
  },
  {
   "cell_type": "code",
   "execution_count": 15,
   "metadata": {
    "executionInfo": {
     "elapsed": 92,
     "status": "aborted",
     "timestamp": 1638773929741,
     "user": {
      "displayName": "ADITYA CHAUHAN",
      "photoUrl": "https://lh3.googleusercontent.com/a-/AOh14GgTVLR3eVYgwEiknljwUC_xAl2-2F94ukwwfwKx1Q=s64",
      "userId": "16268924853158550743"
     },
     "user_tz": -330
    },
    "id": "kotMFaQmiQGT"
   },
   "outputs": [
    {
     "name": "stdout",
     "output_type": "stream",
     "text": [
      "<class 'pandas.core.frame.DataFrame'>\n",
      "RangeIndex: 303 entries, 0 to 302\n",
      "Data columns (total 14 columns):\n",
      " #   Column                   Non-Null Count  Dtype  \n",
      "---  ------                   --------------  -----  \n",
      " 0   age                      303 non-null    int64  \n",
      " 1   gender                   303 non-null    object \n",
      " 2   chest_pain_type          303 non-null    object \n",
      " 3   resting_blood_pressure   303 non-null    int64  \n",
      " 4   cholesterol              303 non-null    int64  \n",
      " 5   fasting_blood_sugar      303 non-null    object \n",
      " 6   rest_ecg                 303 non-null    object \n",
      " 7   max_heart_rate_achieved  303 non-null    int64  \n",
      " 8   exercise_induced_angina  303 non-null    object \n",
      " 9   st_depression            303 non-null    float64\n",
      " 10  st_slope                 303 non-null    object \n",
      " 11  num_major_vessels        303 non-null    int64  \n",
      " 12  thalassemia              303 non-null    object \n",
      " 13  target                   303 non-null    int64  \n",
      "dtypes: float64(1), int64(6), object(7)\n",
      "memory usage: 33.3+ KB\n"
     ]
    }
   ],
   "source": [
    "dt.info()"
   ]
  },
  {
   "cell_type": "markdown",
   "metadata": {
    "id": "WKVlMrj1iQGU"
   },
   "source": [
    "# DATA CLEANSING"
   ]
  },
  {
   "cell_type": "code",
   "execution_count": null,
   "metadata": {
    "executionInfo": {
     "elapsed": 93,
     "status": "aborted",
     "timestamp": 1638773929742,
     "user": {
      "displayName": "ADITYA CHAUHAN",
      "photoUrl": "https://lh3.googleusercontent.com/a-/AOh14GgTVLR3eVYgwEiknljwUC_xAl2-2F94ukwwfwKx1Q=s64",
      "userId": "16268924853158550743"
     },
     "user_tz": -330
    },
    "id": "OaNZcbjsiQGW"
   },
   "outputs": [],
   "source": [
    "dt.isnull().sum()"
   ]
  },
  {
   "cell_type": "markdown",
   "metadata": {
    "id": "svsOsn8fiQGX"
   },
   "source": [
    "### Droping Null values because Null values are very less as compared to data size"
   ]
  },
  {
   "cell_type": "code",
   "execution_count": null,
   "metadata": {
    "executionInfo": {
     "elapsed": 92,
     "status": "aborted",
     "timestamp": 1638773929742,
     "user": {
      "displayName": "ADITYA CHAUHAN",
      "photoUrl": "https://lh3.googleusercontent.com/a-/AOh14GgTVLR3eVYgwEiknljwUC_xAl2-2F94ukwwfwKx1Q=s64",
      "userId": "16268924853158550743"
     },
     "user_tz": -330
    },
    "id": "IGwxLBWIiQGX"
   },
   "outputs": [],
   "source": [
    "dt=dt.dropna()"
   ]
  },
  {
   "cell_type": "markdown",
   "metadata": {
    "id": "ovfwHZdCiQGY"
   },
   "source": [
    "# DATA INSIGHTS"
   ]
  },
  {
   "cell_type": "code",
   "execution_count": 18,
   "metadata": {
    "executionInfo": {
     "elapsed": 92,
     "status": "aborted",
     "timestamp": 1638773929742,
     "user": {
      "displayName": "ADITYA CHAUHAN",
      "photoUrl": "https://lh3.googleusercontent.com/a-/AOh14GgTVLR3eVYgwEiknljwUC_xAl2-2F94ukwwfwKx1Q=s64",
      "userId": "16268924853158550743"
     },
     "user_tz": -330
    },
    "id": "c7F5EglziQGZ"
   },
   "outputs": [
    {
     "data": {
      "text/plain": [
       "array([63, 37, 41, 56, 57, 44, 52, 54, 48, 49, 64, 58, 50, 66, 43, 69, 59,\n",
       "       42, 61, 40, 71, 51, 65, 53, 46, 45, 39, 47, 62, 34, 35, 29, 55, 60,\n",
       "       67, 68, 74, 76, 70, 38, 77], dtype=int64)"
      ]
     },
     "execution_count": 18,
     "metadata": {},
     "output_type": "execute_result"
    }
   ],
   "source": [
    "dt.age.unique()"
   ]
  },
  {
   "cell_type": "code",
   "execution_count": null,
   "metadata": {
    "executionInfo": {
     "elapsed": 91,
     "status": "aborted",
     "timestamp": 1638773929743,
     "user": {
      "displayName": "ADITYA CHAUHAN",
      "photoUrl": "https://lh3.googleusercontent.com/a-/AOh14GgTVLR3eVYgwEiknljwUC_xAl2-2F94ukwwfwKx1Q=s64",
      "userId": "16268924853158550743"
     },
     "user_tz": -330
    },
    "id": "Zyc3oqSwiQGZ"
   },
   "outputs": [],
   "source": [
    "dt.age.value_counts()"
   ]
  },
  {
   "cell_type": "code",
   "execution_count": null,
   "metadata": {
    "executionInfo": {
     "elapsed": 91,
     "status": "aborted",
     "timestamp": 1638773929743,
     "user": {
      "displayName": "ADITYA CHAUHAN",
      "photoUrl": "https://lh3.googleusercontent.com/a-/AOh14GgTVLR3eVYgwEiknljwUC_xAl2-2F94ukwwfwKx1Q=s64",
      "userId": "16268924853158550743"
     },
     "user_tz": -330
    },
    "id": "m0vW9qVTiQGa"
   },
   "outputs": [],
   "source": [
    "dt.gender.unique()"
   ]
  },
  {
   "cell_type": "code",
   "execution_count": null,
   "metadata": {
    "executionInfo": {
     "elapsed": 89,
     "status": "aborted",
     "timestamp": 1638773929743,
     "user": {
      "displayName": "ADITYA CHAUHAN",
      "photoUrl": "https://lh3.googleusercontent.com/a-/AOh14GgTVLR3eVYgwEiknljwUC_xAl2-2F94ukwwfwKx1Q=s64",
      "userId": "16268924853158550743"
     },
     "user_tz": -330
    },
    "id": "OeS7G6m5iQGa"
   },
   "outputs": [],
   "source": [
    "dt.gender.value_counts()"
   ]
  },
  {
   "cell_type": "code",
   "execution_count": null,
   "metadata": {
    "executionInfo": {
     "elapsed": 88,
     "status": "aborted",
     "timestamp": 1638773929744,
     "user": {
      "displayName": "ADITYA CHAUHAN",
      "photoUrl": "https://lh3.googleusercontent.com/a-/AOh14GgTVLR3eVYgwEiknljwUC_xAl2-2F94ukwwfwKx1Q=s64",
      "userId": "16268924853158550743"
     },
     "user_tz": -330
    },
    "id": "wbc003aSiQGb"
   },
   "outputs": [],
   "source": [
    "dt.chest_pain_type.unique()"
   ]
  },
  {
   "cell_type": "code",
   "execution_count": null,
   "metadata": {
    "executionInfo": {
     "elapsed": 88,
     "status": "aborted",
     "timestamp": 1638773929744,
     "user": {
      "displayName": "ADITYA CHAUHAN",
      "photoUrl": "https://lh3.googleusercontent.com/a-/AOh14GgTVLR3eVYgwEiknljwUC_xAl2-2F94ukwwfwKx1Q=s64",
      "userId": "16268924853158550743"
     },
     "user_tz": -330
    },
    "id": "GEpsXZvjiQGb"
   },
   "outputs": [],
   "source": [
    "dt.chest_pain_type.value_counts()"
   ]
  },
  {
   "cell_type": "code",
   "execution_count": null,
   "metadata": {
    "executionInfo": {
     "elapsed": 87,
     "status": "aborted",
     "timestamp": 1638773929744,
     "user": {
      "displayName": "ADITYA CHAUHAN",
      "photoUrl": "https://lh3.googleusercontent.com/a-/AOh14GgTVLR3eVYgwEiknljwUC_xAl2-2F94ukwwfwKx1Q=s64",
      "userId": "16268924853158550743"
     },
     "user_tz": -330
    },
    "id": "m1kY1sxoiQGb"
   },
   "outputs": [],
   "source": [
    "dt.resting_blood_pressure.unique()"
   ]
  },
  {
   "cell_type": "code",
   "execution_count": null,
   "metadata": {
    "executionInfo": {
     "elapsed": 88,
     "status": "aborted",
     "timestamp": 1638773929745,
     "user": {
      "displayName": "ADITYA CHAUHAN",
      "photoUrl": "https://lh3.googleusercontent.com/a-/AOh14GgTVLR3eVYgwEiknljwUC_xAl2-2F94ukwwfwKx1Q=s64",
      "userId": "16268924853158550743"
     },
     "user_tz": -330
    },
    "id": "awzXEA9eiQGc"
   },
   "outputs": [],
   "source": [
    "dt.resting_blood_pressure.value_counts()"
   ]
  },
  {
   "cell_type": "code",
   "execution_count": null,
   "metadata": {
    "executionInfo": {
     "elapsed": 87,
     "status": "aborted",
     "timestamp": 1638773929745,
     "user": {
      "displayName": "ADITYA CHAUHAN",
      "photoUrl": "https://lh3.googleusercontent.com/a-/AOh14GgTVLR3eVYgwEiknljwUC_xAl2-2F94ukwwfwKx1Q=s64",
      "userId": "16268924853158550743"
     },
     "user_tz": -330
    },
    "id": "73pcUUVjiQGc"
   },
   "outputs": [],
   "source": [
    "dt.cholesterol.unique()"
   ]
  },
  {
   "cell_type": "code",
   "execution_count": null,
   "metadata": {
    "executionInfo": {
     "elapsed": 87,
     "status": "aborted",
     "timestamp": 1638773929745,
     "user": {
      "displayName": "ADITYA CHAUHAN",
      "photoUrl": "https://lh3.googleusercontent.com/a-/AOh14GgTVLR3eVYgwEiknljwUC_xAl2-2F94ukwwfwKx1Q=s64",
      "userId": "16268924853158550743"
     },
     "user_tz": -330
    },
    "id": "4A5smRqziQGd"
   },
   "outputs": [],
   "source": [
    "dt.cholesterol.value_counts()"
   ]
  },
  {
   "cell_type": "code",
   "execution_count": null,
   "metadata": {
    "executionInfo": {
     "elapsed": 85,
     "status": "aborted",
     "timestamp": 1638773929745,
     "user": {
      "displayName": "ADITYA CHAUHAN",
      "photoUrl": "https://lh3.googleusercontent.com/a-/AOh14GgTVLR3eVYgwEiknljwUC_xAl2-2F94ukwwfwKx1Q=s64",
      "userId": "16268924853158550743"
     },
     "user_tz": -330
    },
    "id": "s2NNef9aiQGd"
   },
   "outputs": [],
   "source": [
    "dt.fasting_blood_sugar.unique()"
   ]
  },
  {
   "cell_type": "code",
   "execution_count": null,
   "metadata": {
    "executionInfo": {
     "elapsed": 85,
     "status": "aborted",
     "timestamp": 1638773929746,
     "user": {
      "displayName": "ADITYA CHAUHAN",
      "photoUrl": "https://lh3.googleusercontent.com/a-/AOh14GgTVLR3eVYgwEiknljwUC_xAl2-2F94ukwwfwKx1Q=s64",
      "userId": "16268924853158550743"
     },
     "user_tz": -330
    },
    "id": "2nNm6980iQGe"
   },
   "outputs": [],
   "source": [
    "dt.fasting_blood_sugar.value_counts()"
   ]
  },
  {
   "cell_type": "code",
   "execution_count": null,
   "metadata": {
    "executionInfo": {
     "elapsed": 84,
     "status": "aborted",
     "timestamp": 1638773929746,
     "user": {
      "displayName": "ADITYA CHAUHAN",
      "photoUrl": "https://lh3.googleusercontent.com/a-/AOh14GgTVLR3eVYgwEiknljwUC_xAl2-2F94ukwwfwKx1Q=s64",
      "userId": "16268924853158550743"
     },
     "user_tz": -330
    },
    "id": "qanUnze3iQGe"
   },
   "outputs": [],
   "source": [
    "dt.rest_ecg.unique()"
   ]
  },
  {
   "cell_type": "code",
   "execution_count": null,
   "metadata": {
    "executionInfo": {
     "elapsed": 83,
     "status": "aborted",
     "timestamp": 1638773929746,
     "user": {
      "displayName": "ADITYA CHAUHAN",
      "photoUrl": "https://lh3.googleusercontent.com/a-/AOh14GgTVLR3eVYgwEiknljwUC_xAl2-2F94ukwwfwKx1Q=s64",
      "userId": "16268924853158550743"
     },
     "user_tz": -330
    },
    "id": "lGM7FgaViQGe"
   },
   "outputs": [],
   "source": [
    "dt.rest_ecg.value_counts()"
   ]
  },
  {
   "cell_type": "code",
   "execution_count": null,
   "metadata": {
    "executionInfo": {
     "elapsed": 83,
     "status": "aborted",
     "timestamp": 1638773929747,
     "user": {
      "displayName": "ADITYA CHAUHAN",
      "photoUrl": "https://lh3.googleusercontent.com/a-/AOh14GgTVLR3eVYgwEiknljwUC_xAl2-2F94ukwwfwKx1Q=s64",
      "userId": "16268924853158550743"
     },
     "user_tz": -330
    },
    "id": "QCcf2hCqiQGf"
   },
   "outputs": [],
   "source": [
    "dt.max_heart_rate_achieved.value_counts()"
   ]
  },
  {
   "cell_type": "code",
   "execution_count": null,
   "metadata": {
    "executionInfo": {
     "elapsed": 82,
     "status": "aborted",
     "timestamp": 1638773929747,
     "user": {
      "displayName": "ADITYA CHAUHAN",
      "photoUrl": "https://lh3.googleusercontent.com/a-/AOh14GgTVLR3eVYgwEiknljwUC_xAl2-2F94ukwwfwKx1Q=s64",
      "userId": "16268924853158550743"
     },
     "user_tz": -330
    },
    "id": "C4FX0mILiQGf"
   },
   "outputs": [],
   "source": [
    "dt.max_heart_rate_achieved.unique()"
   ]
  },
  {
   "cell_type": "code",
   "execution_count": null,
   "metadata": {
    "executionInfo": {
     "elapsed": 82,
     "status": "aborted",
     "timestamp": 1638773929747,
     "user": {
      "displayName": "ADITYA CHAUHAN",
      "photoUrl": "https://lh3.googleusercontent.com/a-/AOh14GgTVLR3eVYgwEiknljwUC_xAl2-2F94ukwwfwKx1Q=s64",
      "userId": "16268924853158550743"
     },
     "user_tz": -330
    },
    "id": "rKmTu-eTiQGf"
   },
   "outputs": [],
   "source": [
    "dt.exercise_induced_angina.unique()"
   ]
  },
  {
   "cell_type": "code",
   "execution_count": null,
   "metadata": {
    "executionInfo": {
     "elapsed": 82,
     "status": "aborted",
     "timestamp": 1638773929747,
     "user": {
      "displayName": "ADITYA CHAUHAN",
      "photoUrl": "https://lh3.googleusercontent.com/a-/AOh14GgTVLR3eVYgwEiknljwUC_xAl2-2F94ukwwfwKx1Q=s64",
      "userId": "16268924853158550743"
     },
     "user_tz": -330
    },
    "id": "SB6W4nKeiQGf"
   },
   "outputs": [],
   "source": [
    "dt.exercise_induced_angina.value_counts()"
   ]
  },
  {
   "cell_type": "code",
   "execution_count": null,
   "metadata": {
    "executionInfo": {
     "elapsed": 82,
     "status": "aborted",
     "timestamp": 1638773929748,
     "user": {
      "displayName": "ADITYA CHAUHAN",
      "photoUrl": "https://lh3.googleusercontent.com/a-/AOh14GgTVLR3eVYgwEiknljwUC_xAl2-2F94ukwwfwKx1Q=s64",
      "userId": "16268924853158550743"
     },
     "user_tz": -330
    },
    "id": "exUECLrziQGg"
   },
   "outputs": [],
   "source": [
    "dt.st_depression.value_counts()"
   ]
  },
  {
   "cell_type": "code",
   "execution_count": null,
   "metadata": {
    "executionInfo": {
     "elapsed": 82,
     "status": "aborted",
     "timestamp": 1638773929748,
     "user": {
      "displayName": "ADITYA CHAUHAN",
      "photoUrl": "https://lh3.googleusercontent.com/a-/AOh14GgTVLR3eVYgwEiknljwUC_xAl2-2F94ukwwfwKx1Q=s64",
      "userId": "16268924853158550743"
     },
     "user_tz": -330
    },
    "id": "PZu6FtIciQGg"
   },
   "outputs": [],
   "source": [
    "dt.st_depression.value_counts()"
   ]
  },
  {
   "cell_type": "code",
   "execution_count": null,
   "metadata": {
    "executionInfo": {
     "elapsed": 81,
     "status": "aborted",
     "timestamp": 1638773929748,
     "user": {
      "displayName": "ADITYA CHAUHAN",
      "photoUrl": "https://lh3.googleusercontent.com/a-/AOh14GgTVLR3eVYgwEiknljwUC_xAl2-2F94ukwwfwKx1Q=s64",
      "userId": "16268924853158550743"
     },
     "user_tz": -330
    },
    "id": "aZ1Ma3_niQGh"
   },
   "outputs": [],
   "source": [
    "dt.st_slope.unique()"
   ]
  },
  {
   "cell_type": "code",
   "execution_count": null,
   "metadata": {
    "executionInfo": {
     "elapsed": 81,
     "status": "aborted",
     "timestamp": 1638773929748,
     "user": {
      "displayName": "ADITYA CHAUHAN",
      "photoUrl": "https://lh3.googleusercontent.com/a-/AOh14GgTVLR3eVYgwEiknljwUC_xAl2-2F94ukwwfwKx1Q=s64",
      "userId": "16268924853158550743"
     },
     "user_tz": -330
    },
    "id": "O6P-elh-iQGh"
   },
   "outputs": [],
   "source": [
    "dt.st_slope.value_counts()"
   ]
  },
  {
   "cell_type": "code",
   "execution_count": null,
   "metadata": {
    "executionInfo": {
     "elapsed": 81,
     "status": "aborted",
     "timestamp": 1638773929749,
     "user": {
      "displayName": "ADITYA CHAUHAN",
      "photoUrl": "https://lh3.googleusercontent.com/a-/AOh14GgTVLR3eVYgwEiknljwUC_xAl2-2F94ukwwfwKx1Q=s64",
      "userId": "16268924853158550743"
     },
     "user_tz": -330
    },
    "id": "OZ5V3qS5iQGh"
   },
   "outputs": [],
   "source": [
    "dt.num_major_vessels.value_counts()"
   ]
  },
  {
   "cell_type": "code",
   "execution_count": null,
   "metadata": {
    "executionInfo": {
     "elapsed": 81,
     "status": "aborted",
     "timestamp": 1638773929749,
     "user": {
      "displayName": "ADITYA CHAUHAN",
      "photoUrl": "https://lh3.googleusercontent.com/a-/AOh14GgTVLR3eVYgwEiknljwUC_xAl2-2F94ukwwfwKx1Q=s64",
      "userId": "16268924853158550743"
     },
     "user_tz": -330
    },
    "id": "5Va8Wh2KiQGh"
   },
   "outputs": [],
   "source": [
    "dt.num_major_vessels.unique()"
   ]
  },
  {
   "cell_type": "code",
   "execution_count": null,
   "metadata": {
    "executionInfo": {
     "elapsed": 81,
     "status": "aborted",
     "timestamp": 1638773929750,
     "user": {
      "displayName": "ADITYA CHAUHAN",
      "photoUrl": "https://lh3.googleusercontent.com/a-/AOh14GgTVLR3eVYgwEiknljwUC_xAl2-2F94ukwwfwKx1Q=s64",
      "userId": "16268924853158550743"
     },
     "user_tz": -330
    },
    "id": "DIdGhCiciQGi"
   },
   "outputs": [],
   "source": [
    "dt.thalassemia.unique()"
   ]
  },
  {
   "cell_type": "code",
   "execution_count": null,
   "metadata": {
    "executionInfo": {
     "elapsed": 81,
     "status": "aborted",
     "timestamp": 1638773929750,
     "user": {
      "displayName": "ADITYA CHAUHAN",
      "photoUrl": "https://lh3.googleusercontent.com/a-/AOh14GgTVLR3eVYgwEiknljwUC_xAl2-2F94ukwwfwKx1Q=s64",
      "userId": "16268924853158550743"
     },
     "user_tz": -330
    },
    "id": "co4OQouciQGi"
   },
   "outputs": [],
   "source": [
    "dt.thalassemia.value_counts()"
   ]
  },
  {
   "cell_type": "code",
   "execution_count": null,
   "metadata": {
    "executionInfo": {
     "elapsed": 80,
     "status": "aborted",
     "timestamp": 1638773929750,
     "user": {
      "displayName": "ADITYA CHAUHAN",
      "photoUrl": "https://lh3.googleusercontent.com/a-/AOh14GgTVLR3eVYgwEiknljwUC_xAl2-2F94ukwwfwKx1Q=s64",
      "userId": "16268924853158550743"
     },
     "user_tz": -330
    },
    "id": "Iyl3sdBWiQGi"
   },
   "outputs": [],
   "source": [
    "from dataprep.datasets import load_dataset\n",
    "from dataprep.eda import create_report\n",
    "#df = load_dataset(\"titanic\")\n",
    "create_report(dt)"
   ]
  },
  {
   "cell_type": "markdown",
   "metadata": {
    "id": "C0WygDk4iQGi"
   },
   "source": [
    "# CHECK FOR OUTLIERS"
   ]
  },
  {
   "cell_type": "code",
   "execution_count": null,
   "metadata": {
    "executionInfo": {
     "elapsed": 80,
     "status": "aborted",
     "timestamp": 1638773929750,
     "user": {
      "displayName": "ADITYA CHAUHAN",
      "photoUrl": "https://lh3.googleusercontent.com/a-/AOh14GgTVLR3eVYgwEiknljwUC_xAl2-2F94ukwwfwKx1Q=s64",
      "userId": "16268924853158550743"
     },
     "user_tz": -330
    },
    "id": "V_S2PlnKiQGi"
   },
   "outputs": [],
   "source": [
    "plt.boxplot(dt.age)"
   ]
  },
  {
   "cell_type": "code",
   "execution_count": null,
   "metadata": {
    "executionInfo": {
     "elapsed": 81,
     "status": "aborted",
     "timestamp": 1638773929752,
     "user": {
      "displayName": "ADITYA CHAUHAN",
      "photoUrl": "https://lh3.googleusercontent.com/a-/AOh14GgTVLR3eVYgwEiknljwUC_xAl2-2F94ukwwfwKx1Q=s64",
      "userId": "16268924853158550743"
     },
     "user_tz": -330
    },
    "id": "y7qNcs3GiQGj"
   },
   "outputs": [],
   "source": [
    "plt.boxplot(dt.resting_blood_pressure)"
   ]
  },
  {
   "cell_type": "code",
   "execution_count": null,
   "metadata": {
    "executionInfo": {
     "elapsed": 80,
     "status": "aborted",
     "timestamp": 1638773929752,
     "user": {
      "displayName": "ADITYA CHAUHAN",
      "photoUrl": "https://lh3.googleusercontent.com/a-/AOh14GgTVLR3eVYgwEiknljwUC_xAl2-2F94ukwwfwKx1Q=s64",
      "userId": "16268924853158550743"
     },
     "user_tz": -330
    },
    "id": "PCWSDFWJiQGj"
   },
   "outputs": [],
   "source": [
    "plt.boxplot(dt.cholesterol)"
   ]
  },
  {
   "cell_type": "code",
   "execution_count": null,
   "metadata": {
    "executionInfo": {
     "elapsed": 78,
     "status": "aborted",
     "timestamp": 1638773929752,
     "user": {
      "displayName": "ADITYA CHAUHAN",
      "photoUrl": "https://lh3.googleusercontent.com/a-/AOh14GgTVLR3eVYgwEiknljwUC_xAl2-2F94ukwwfwKx1Q=s64",
      "userId": "16268924853158550743"
     },
     "user_tz": -330
    },
    "id": "qLWKJn5ciQGj"
   },
   "outputs": [],
   "source": [
    "plt.boxplot(dt.max_heart_rate_achieved)"
   ]
  },
  {
   "cell_type": "code",
   "execution_count": null,
   "metadata": {
    "executionInfo": {
     "elapsed": 77,
     "status": "aborted",
     "timestamp": 1638773929752,
     "user": {
      "displayName": "ADITYA CHAUHAN",
      "photoUrl": "https://lh3.googleusercontent.com/a-/AOh14GgTVLR3eVYgwEiknljwUC_xAl2-2F94ukwwfwKx1Q=s64",
      "userId": "16268924853158550743"
     },
     "user_tz": -330
    },
    "id": "J-luimQ-iQGk"
   },
   "outputs": [],
   "source": [
    "plt.boxplot(dt.num_major_vessels)"
   ]
  },
  {
   "cell_type": "markdown",
   "metadata": {
    "id": "cQQMafE0iQGk"
   },
   "source": [
    "# STATISTICAL EDA"
   ]
  },
  {
   "cell_type": "code",
   "execution_count": null,
   "metadata": {
    "executionInfo": {
     "elapsed": 77,
     "status": "aborted",
     "timestamp": 1638773929753,
     "user": {
      "displayName": "ADITYA CHAUHAN",
      "photoUrl": "https://lh3.googleusercontent.com/a-/AOh14GgTVLR3eVYgwEiknljwUC_xAl2-2F94ukwwfwKx1Q=s64",
      "userId": "16268924853158550743"
     },
     "user_tz": -330
    },
    "id": "aPk_9-spiQGk"
   },
   "outputs": [],
   "source": [
    "dt.mean()"
   ]
  },
  {
   "cell_type": "code",
   "execution_count": null,
   "metadata": {
    "executionInfo": {
     "elapsed": 76,
     "status": "aborted",
     "timestamp": 1638773929753,
     "user": {
      "displayName": "ADITYA CHAUHAN",
      "photoUrl": "https://lh3.googleusercontent.com/a-/AOh14GgTVLR3eVYgwEiknljwUC_xAl2-2F94ukwwfwKx1Q=s64",
      "userId": "16268924853158550743"
     },
     "user_tz": -330
    },
    "id": "1r8WvBTAiQGl"
   },
   "outputs": [],
   "source": [
    "dt.median()"
   ]
  },
  {
   "cell_type": "code",
   "execution_count": null,
   "metadata": {
    "executionInfo": {
     "elapsed": 75,
     "status": "aborted",
     "timestamp": 1638773929754,
     "user": {
      "displayName": "ADITYA CHAUHAN",
      "photoUrl": "https://lh3.googleusercontent.com/a-/AOh14GgTVLR3eVYgwEiknljwUC_xAl2-2F94ukwwfwKx1Q=s64",
      "userId": "16268924853158550743"
     },
     "user_tz": -330
    },
    "id": "qG6K9r9eiQGl"
   },
   "outputs": [],
   "source": [
    "dt.mode()"
   ]
  },
  {
   "cell_type": "code",
   "execution_count": null,
   "metadata": {
    "executionInfo": {
     "elapsed": 74,
     "status": "aborted",
     "timestamp": 1638773929754,
     "user": {
      "displayName": "ADITYA CHAUHAN",
      "photoUrl": "https://lh3.googleusercontent.com/a-/AOh14GgTVLR3eVYgwEiknljwUC_xAl2-2F94ukwwfwKx1Q=s64",
      "userId": "16268924853158550743"
     },
     "user_tz": -330
    },
    "id": "O7Rf-HBiiQGm"
   },
   "outputs": [],
   "source": [
    "dt.describe()"
   ]
  },
  {
   "cell_type": "code",
   "execution_count": null,
   "metadata": {
    "executionInfo": {
     "elapsed": 73,
     "status": "aborted",
     "timestamp": 1638773929754,
     "user": {
      "displayName": "ADITYA CHAUHAN",
      "photoUrl": "https://lh3.googleusercontent.com/a-/AOh14GgTVLR3eVYgwEiknljwUC_xAl2-2F94ukwwfwKx1Q=s64",
      "userId": "16268924853158550743"
     },
     "user_tz": -330
    },
    "id": "i1V1wjaLiQGm"
   },
   "outputs": [],
   "source": [
    "dt.skew()"
   ]
  },
  {
   "cell_type": "code",
   "execution_count": null,
   "metadata": {
    "executionInfo": {
     "elapsed": 72,
     "status": "aborted",
     "timestamp": 1638773929754,
     "user": {
      "displayName": "ADITYA CHAUHAN",
      "photoUrl": "https://lh3.googleusercontent.com/a-/AOh14GgTVLR3eVYgwEiknljwUC_xAl2-2F94ukwwfwKx1Q=s64",
      "userId": "16268924853158550743"
     },
     "user_tz": -330
    },
    "id": "OwIhkREXiQGm"
   },
   "outputs": [],
   "source": [
    "dt.corr()"
   ]
  },
  {
   "cell_type": "code",
   "execution_count": null,
   "metadata": {
    "executionInfo": {
     "elapsed": 72,
     "status": "aborted",
     "timestamp": 1638773929755,
     "user": {
      "displayName": "ADITYA CHAUHAN",
      "photoUrl": "https://lh3.googleusercontent.com/a-/AOh14GgTVLR3eVYgwEiknljwUC_xAl2-2F94ukwwfwKx1Q=s64",
      "userId": "16268924853158550743"
     },
     "user_tz": -330
    },
    "id": "F1AR1PoBiQGm"
   },
   "outputs": [],
   "source": [
    "dataplot = sns.heatmap(dt.corr(),cmap = \"PiYG\",annot = True)\n",
    "plt.rcParams['figure.figsize'] = [10,10]"
   ]
  },
  {
   "cell_type": "markdown",
   "metadata": {
    "id": "GSN1Q_60iQGn"
   },
   "source": [
    "## Heart Diseases Ratio in Dataset\n",
    "Blue Graph indicate no heart desease and Orange Graph show Heart desease"
   ]
  },
  {
   "cell_type": "code",
   "execution_count": null,
   "metadata": {
    "executionInfo": {
     "elapsed": 71,
     "status": "aborted",
     "timestamp": 1638773929755,
     "user": {
      "displayName": "ADITYA CHAUHAN",
      "photoUrl": "https://lh3.googleusercontent.com/a-/AOh14GgTVLR3eVYgwEiknljwUC_xAl2-2F94ukwwfwKx1Q=s64",
      "userId": "16268924853158550743"
     },
     "user_tz": -330
    },
    "id": "sQmUnIuPiQGn"
   },
   "outputs": [],
   "source": [
    "def plotTarget():\n",
    "    sns.countplot(x='target', data=dt, ax=ax)\n",
    "    for i, p in enumerate(ax.patches):\n",
    "        count=dt['target'].value_counts().values[i]\n",
    "        x=p.get_x()+ p.get_width() /2.\n",
    "        y=p.get_height() + 3\n",
    "        label='{:1.2f}'.format(count / float(dt.shape[0]))\n",
    "        ax.text(x, y,label, ha='center')\n",
    "        \n",
    "fig_target,ax=plt.subplots(nrows=1, ncols=1, figsize=(5, 2))\n",
    "plotTarget()"
   ]
  },
  {
   "cell_type": "markdown",
   "metadata": {
    "id": "dLR2CwxNiQGo"
   },
   "source": [
    "## Select Age as most dependent data on label\n",
    "Disease Probability Bar Plot"
   ]
  },
  {
   "cell_type": "code",
   "execution_count": null,
   "metadata": {
    "executionInfo": {
     "elapsed": 71,
     "status": "aborted",
     "timestamp": 1638773929755,
     "user": {
      "displayName": "ADITYA CHAUHAN",
      "photoUrl": "https://lh3.googleusercontent.com/a-/AOh14GgTVLR3eVYgwEiknljwUC_xAl2-2F94ukwwfwKx1Q=s64",
      "userId": "16268924853158550743"
     },
     "user_tz": -330
    },
    "id": "4x186mSaiQGo"
   },
   "outputs": [],
   "source": [
    "def plotAge():\n",
    "    facet_grid = sns.FacetGrid(dt, hue='target')\n",
    "    facet_grid.map(sns.kdeplot, \"age\", shade=True, ax=axes[0])\n",
    "    legend_labels = ['disease false', 'disease true']\n",
    "    #for t, l in zip(axes[0].get_legend().texts, legend_labels):\n",
    "        #t.set_text(l)\n",
    "        \n",
    "    axes[0].set(xlabel='age', ylabel='density')\n",
    "\n",
    "    avg = dt[[\"age\", \"target\"]].groupby(['age'], as_index=False).mean()\n",
    "    sns.barplot(x='age', y='target', data=avg, ax=axes[1])\n",
    "    axes[1].set(xlabel='age', ylabel='disease probability')\n",
    "\n",
    "    plt.clf()"
   ]
  },
  {
   "cell_type": "code",
   "execution_count": null,
   "metadata": {
    "executionInfo": {
     "elapsed": 71,
     "status": "aborted",
     "timestamp": 1638773929756,
     "user": {
      "displayName": "ADITYA CHAUHAN",
      "photoUrl": "https://lh3.googleusercontent.com/a-/AOh14GgTVLR3eVYgwEiknljwUC_xAl2-2F94ukwwfwKx1Q=s64",
      "userId": "16268924853158550743"
     },
     "user_tz": -330
    },
    "id": "6FYaxQb2iQGo"
   },
   "outputs": [],
   "source": [
    "fig_age, axes = plt.subplots(nrows=2, ncols=1, figsize=(15, 8))\n",
    "\n",
    "plotAge()"
   ]
  },
  {
   "cell_type": "markdown",
   "metadata": {
    "id": "fJ8gfs0UiQGo"
   },
   "source": [
    "## Ploting Function For Categorical Data \" Chest Pain\" && \"Thalassemia\"\n",
    "Ploting Function For Continoius Data"
   ]
  },
  {
   "cell_type": "code",
   "execution_count": null,
   "metadata": {
    "executionInfo": {
     "elapsed": 71,
     "status": "aborted",
     "timestamp": 1638773929756,
     "user": {
      "displayName": "ADITYA CHAUHAN",
      "photoUrl": "https://lh3.googleusercontent.com/a-/AOh14GgTVLR3eVYgwEiknljwUC_xAl2-2F94ukwwfwKx1Q=s64",
      "userId": "16268924853158550743"
     },
     "user_tz": -330
    },
    "id": "9E-DzMkHiQGp"
   },
   "outputs": [],
   "source": [
    "category=[('gender',['female','male']),('chest_pain_type',['typical angina','atypical angina','non-anginal pain','asymptomatic']),('fasting_blood_sugar',['lower than 120mg/ml','greater than 120mg/ml']),('rest_ecg',['normal','ST-T wave abnormality','left ventricular hypertrophy']),('exercise_induced_angina',['no','yes']),('st_slope',['upsloping','flat','downsloping']),('thalassemia',['fixed','normal','reversable'])]\n",
    "continuous = [('resting_blood_pressure'),('cholesterol'),('max_heart_rate_achieved'),('st_depression'),('num_major_vessels')]\n",
    "\n",
    "        \n",
    "def plotCategorial(attribute, labels, ax_index):\n",
    "    sns.countplot(x=attribute, data=dt, ax=axes[ax_index][0])\n",
    "    sns.countplot(x='target', hue=attribute, data=dt, ax=axes[ax_index][1])\n",
    "    avg = dt[[attribute, 'target']].groupby([attribute], as_index=False).mean()\n",
    "    sns.barplot(x=attribute, y='target', hue=attribute, data=avg, ax=axes[ax_index][2])\n",
    "    \n",
    "    for t, l in zip(axes[ax_index][1].get_legend().texts, labels):\n",
    "        t.set_text(l)\n",
    "    for t, l in zip(axes[ax_index][2].get_legend().texts, labels):\n",
    "        t.set_text(l)\n",
    "\n",
    "\n",
    "def plotContinuous(attribute, xlabel, ax_index):\n",
    "    sns.distplot(dt[[attribute]], ax=axes[ax_index][0])\n",
    "    axes[ax_index][0].set(xlabel=xlabel, ylabel='density')\n",
    "    sns.violinplot(x='target', y=attribute, data=dt, ax=axes[ax_index][1])\n",
    "    \n",
    "    \n",
    "def plotGrid(isCategorial):\n",
    "    if isCategorial:\n",
    "        [plotCategorial(x[0], x[1], i) for i, x in enumerate(category)] \n",
    "    else:\n",
    "        [plotContinuous(x[0], x[1], i) for i, x in enumerate(continuous)]"
   ]
  },
  {
   "cell_type": "code",
   "execution_count": null,
   "metadata": {
    "executionInfo": {
     "elapsed": 70,
     "status": "aborted",
     "timestamp": 1638773929756,
     "user": {
      "displayName": "ADITYA CHAUHAN",
      "photoUrl": "https://lh3.googleusercontent.com/a-/AOh14GgTVLR3eVYgwEiknljwUC_xAl2-2F94ukwwfwKx1Q=s64",
      "userId": "16268924853158550743"
     },
     "user_tz": -330
    },
    "id": "yTz2qVRXiQGp"
   },
   "outputs": [],
   "source": [
    "fig_categorial,axes=plt.subplots(nrows=len(category), ncols=3, figsize=(14, 18))\n",
    "plotGrid(isCategorial=True)"
   ]
  },
  {
   "cell_type": "code",
   "execution_count": null,
   "metadata": {
    "executionInfo": {
     "elapsed": 69,
     "status": "aborted",
     "timestamp": 1638773929756,
     "user": {
      "displayName": "ADITYA CHAUHAN",
      "photoUrl": "https://lh3.googleusercontent.com/a-/AOh14GgTVLR3eVYgwEiknljwUC_xAl2-2F94ukwwfwKx1Q=s64",
      "userId": "16268924853158550743"
     },
     "user_tz": -330
    },
    "id": "NABvWDS5iQGp"
   },
   "outputs": [],
   "source": [
    "sns.kdeplot(dt.age)"
   ]
  },
  {
   "cell_type": "code",
   "execution_count": null,
   "metadata": {
    "executionInfo": {
     "elapsed": 69,
     "status": "aborted",
     "timestamp": 1638773929756,
     "user": {
      "displayName": "ADITYA CHAUHAN",
      "photoUrl": "https://lh3.googleusercontent.com/a-/AOh14GgTVLR3eVYgwEiknljwUC_xAl2-2F94ukwwfwKx1Q=s64",
      "userId": "16268924853158550743"
     },
     "user_tz": -330
    },
    "id": "SyUquXWEiQGp"
   },
   "outputs": [],
   "source": [
    "stats.probplot(dt.age,plot=pylab)"
   ]
  },
  {
   "cell_type": "code",
   "execution_count": null,
   "metadata": {
    "executionInfo": {
     "elapsed": 68,
     "status": "aborted",
     "timestamp": 1638773929756,
     "user": {
      "displayName": "ADITYA CHAUHAN",
      "photoUrl": "https://lh3.googleusercontent.com/a-/AOh14GgTVLR3eVYgwEiknljwUC_xAl2-2F94ukwwfwKx1Q=s64",
      "userId": "16268924853158550743"
     },
     "user_tz": -330
    },
    "id": "gwBsPe9LiQGq"
   },
   "outputs": [],
   "source": [
    "sns.kdeplot(dt.max_heart_rate_achieved)"
   ]
  },
  {
   "cell_type": "code",
   "execution_count": null,
   "metadata": {
    "executionInfo": {
     "elapsed": 69,
     "status": "aborted",
     "timestamp": 1638773929758,
     "user": {
      "displayName": "ADITYA CHAUHAN",
      "photoUrl": "https://lh3.googleusercontent.com/a-/AOh14GgTVLR3eVYgwEiknljwUC_xAl2-2F94ukwwfwKx1Q=s64",
      "userId": "16268924853158550743"
     },
     "user_tz": -330
    },
    "id": "GUYjgW3JiQGr"
   },
   "outputs": [],
   "source": [
    "stats.probplot(dt.max_heart_rate_achieved,plot=pylab)"
   ]
  },
  {
   "cell_type": "code",
   "execution_count": null,
   "metadata": {
    "executionInfo": {
     "elapsed": 68,
     "status": "aborted",
     "timestamp": 1638773929758,
     "user": {
      "displayName": "ADITYA CHAUHAN",
      "photoUrl": "https://lh3.googleusercontent.com/a-/AOh14GgTVLR3eVYgwEiknljwUC_xAl2-2F94ukwwfwKx1Q=s64",
      "userId": "16268924853158550743"
     },
     "user_tz": -330
    },
    "id": "XimbXExPiQGr"
   },
   "outputs": [],
   "source": [
    "def normality(data,feature):\n",
    "    mlp.figure(figsize=(10,5))\n",
    "    mlp.subplot(1,2,1)\n",
    "    sns.kdeplot(data[feature])\n",
    "    mlp.subplot(1,2,2)\n",
    "    stats.probplot(data[feature],plot=pylab)\n",
    "    mlp.show()"
   ]
  },
  {
   "cell_type": "code",
   "execution_count": null,
   "metadata": {
    "executionInfo": {
     "elapsed": 67,
     "status": "aborted",
     "timestamp": 1638773929758,
     "user": {
      "displayName": "ADITYA CHAUHAN",
      "photoUrl": "https://lh3.googleusercontent.com/a-/AOh14GgTVLR3eVYgwEiknljwUC_xAl2-2F94ukwwfwKx1Q=s64",
      "userId": "16268924853158550743"
     },
     "user_tz": -330
    },
    "id": "6TLjiHBziQGr"
   },
   "outputs": [],
   "source": [
    "normality(dt,'age')"
   ]
  },
  {
   "cell_type": "code",
   "execution_count": null,
   "metadata": {
    "executionInfo": {
     "elapsed": 67,
     "status": "aborted",
     "timestamp": 1638773929758,
     "user": {
      "displayName": "ADITYA CHAUHAN",
      "photoUrl": "https://lh3.googleusercontent.com/a-/AOh14GgTVLR3eVYgwEiknljwUC_xAl2-2F94ukwwfwKx1Q=s64",
      "userId": "16268924853158550743"
     },
     "user_tz": -330
    },
    "id": "x4qp_0JsiQGr"
   },
   "outputs": [],
   "source": [
    "normality(dt,'resting_blood_pressure')"
   ]
  },
  {
   "cell_type": "code",
   "execution_count": null,
   "metadata": {
    "executionInfo": {
     "elapsed": 67,
     "status": "aborted",
     "timestamp": 1638773929759,
     "user": {
      "displayName": "ADITYA CHAUHAN",
      "photoUrl": "https://lh3.googleusercontent.com/a-/AOh14GgTVLR3eVYgwEiknljwUC_xAl2-2F94ukwwfwKx1Q=s64",
      "userId": "16268924853158550743"
     },
     "user_tz": -330
    },
    "id": "ldVOFsHIiQGs"
   },
   "outputs": [],
   "source": [
    "normality(dt,'cholesterol')"
   ]
  },
  {
   "cell_type": "code",
   "execution_count": null,
   "metadata": {
    "executionInfo": {
     "elapsed": 66,
     "status": "aborted",
     "timestamp": 1638773929759,
     "user": {
      "displayName": "ADITYA CHAUHAN",
      "photoUrl": "https://lh3.googleusercontent.com/a-/AOh14GgTVLR3eVYgwEiknljwUC_xAl2-2F94ukwwfwKx1Q=s64",
      "userId": "16268924853158550743"
     },
     "user_tz": -330
    },
    "id": "VMw74XfRiQGs"
   },
   "outputs": [],
   "source": [
    "normality(dt,'resting_blood_pressure')"
   ]
  },
  {
   "cell_type": "code",
   "execution_count": null,
   "metadata": {
    "executionInfo": {
     "elapsed": 67,
     "status": "aborted",
     "timestamp": 1638773929760,
     "user": {
      "displayName": "ADITYA CHAUHAN",
      "photoUrl": "https://lh3.googleusercontent.com/a-/AOh14GgTVLR3eVYgwEiknljwUC_xAl2-2F94ukwwfwKx1Q=s64",
      "userId": "16268924853158550743"
     },
     "user_tz": -330
    },
    "id": "jMtsCP40iQGs"
   },
   "outputs": [],
   "source": [
    "normality(dt,'max_heart_rate_achieved')"
   ]
  },
  {
   "cell_type": "code",
   "execution_count": null,
   "metadata": {
    "executionInfo": {
     "elapsed": 67,
     "status": "aborted",
     "timestamp": 1638773929761,
     "user": {
      "displayName": "ADITYA CHAUHAN",
      "photoUrl": "https://lh3.googleusercontent.com/a-/AOh14GgTVLR3eVYgwEiknljwUC_xAl2-2F94ukwwfwKx1Q=s64",
      "userId": "16268924853158550743"
     },
     "user_tz": -330
    },
    "id": "pyIt6DctiQGs"
   },
   "outputs": [],
   "source": [
    "normality(dt,'st_depression')"
   ]
  },
  {
   "cell_type": "code",
   "execution_count": null,
   "metadata": {
    "executionInfo": {
     "elapsed": 67,
     "status": "aborted",
     "timestamp": 1638773929762,
     "user": {
      "displayName": "ADITYA CHAUHAN",
      "photoUrl": "https://lh3.googleusercontent.com/a-/AOh14GgTVLR3eVYgwEiknljwUC_xAl2-2F94ukwwfwKx1Q=s64",
      "userId": "16268924853158550743"
     },
     "user_tz": -330
    },
    "id": "2UzT9oCPiQGt"
   },
   "outputs": [],
   "source": [
    "normality(dt,'num_major_vessels')"
   ]
  },
  {
   "cell_type": "code",
   "execution_count": null,
   "metadata": {
    "executionInfo": {
     "elapsed": 66,
     "status": "aborted",
     "timestamp": 1638773929762,
     "user": {
      "displayName": "ADITYA CHAUHAN",
      "photoUrl": "https://lh3.googleusercontent.com/a-/AOh14GgTVLR3eVYgwEiknljwUC_xAl2-2F94ukwwfwKx1Q=s64",
      "userId": "16268924853158550743"
     },
     "user_tz": -330
    },
    "id": "5G4yBn9OiQGt"
   },
   "outputs": [],
   "source": [
    "sns.pairplot(dt,hue=\"target\",size = 3)"
   ]
  },
  {
   "cell_type": "markdown",
   "metadata": {
    "id": "2mLb_4gmiQGt"
   },
   "source": [
    "# TRANSFORMATIONS(log, sqrt, reciprocal, boxcox)"
   ]
  },
  {
   "cell_type": "code",
   "execution_count": 23,
   "metadata": {
    "executionInfo": {
     "elapsed": 67,
     "status": "aborted",
     "timestamp": 1638773929763,
     "user": {
      "displayName": "ADITYA CHAUHAN",
      "photoUrl": "https://lh3.googleusercontent.com/a-/AOh14GgTVLR3eVYgwEiknljwUC_xAl2-2F94ukwwfwKx1Q=s64",
      "userId": "16268924853158550743"
     },
     "user_tz": -330
    },
    "id": "-z_Wunm9iQGu"
   },
   "outputs": [],
   "source": [
    "dt1 = dt.copy(deep = True)"
   ]
  },
  {
   "cell_type": "code",
   "execution_count": 24,
   "metadata": {
    "executionInfo": {
     "elapsed": 66,
     "status": "aborted",
     "timestamp": 1638773929763,
     "user": {
      "displayName": "ADITYA CHAUHAN",
      "photoUrl": "https://lh3.googleusercontent.com/a-/AOh14GgTVLR3eVYgwEiknljwUC_xAl2-2F94ukwwfwKx1Q=s64",
      "userId": "16268924853158550743"
     },
     "user_tz": -330
    },
    "id": "RJ9becnjiQGu"
   },
   "outputs": [
    {
     "ename": "NameError",
     "evalue": "name 'normality' is not defined",
     "output_type": "error",
     "traceback": [
      "\u001b[1;31m---------------------------------------------------------------------------\u001b[0m",
      "\u001b[1;31mNameError\u001b[0m                                 Traceback (most recent call last)",
      "\u001b[1;32m<ipython-input-24-2a0db52cd3cf>\u001b[0m in \u001b[0;36m<module>\u001b[1;34m\u001b[0m\n\u001b[0;32m      1\u001b[0m \u001b[0mdt1\u001b[0m\u001b[1;33m[\u001b[0m\u001b[1;34m'age_log'\u001b[0m\u001b[1;33m]\u001b[0m \u001b[1;33m=\u001b[0m \u001b[0mnp\u001b[0m\u001b[1;33m.\u001b[0m\u001b[0mlog\u001b[0m\u001b[1;33m(\u001b[0m\u001b[0mdt1\u001b[0m\u001b[1;33m[\u001b[0m\u001b[1;34m'age'\u001b[0m\u001b[1;33m]\u001b[0m\u001b[1;33m)\u001b[0m\u001b[1;33m\u001b[0m\u001b[1;33m\u001b[0m\u001b[0m\n\u001b[1;32m----> 2\u001b[1;33m \u001b[0mnormality\u001b[0m\u001b[1;33m(\u001b[0m\u001b[0mdt1\u001b[0m\u001b[1;33m,\u001b[0m\u001b[1;34m'age_log'\u001b[0m\u001b[1;33m)\u001b[0m\u001b[1;33m\u001b[0m\u001b[1;33m\u001b[0m\u001b[0m\n\u001b[0m",
      "\u001b[1;31mNameError\u001b[0m: name 'normality' is not defined"
     ]
    }
   ],
   "source": [
    "dt1['age_log'] = np.log(dt1['age'])\n",
    "normality(dt1,'age_log')"
   ]
  },
  {
   "cell_type": "code",
   "execution_count": 25,
   "metadata": {
    "executionInfo": {
     "elapsed": 67,
     "status": "aborted",
     "timestamp": 1638773929764,
     "user": {
      "displayName": "ADITYA CHAUHAN",
      "photoUrl": "https://lh3.googleusercontent.com/a-/AOh14GgTVLR3eVYgwEiknljwUC_xAl2-2F94ukwwfwKx1Q=s64",
      "userId": "16268924853158550743"
     },
     "user_tz": -330
    },
    "id": "y-xIVECViQGv"
   },
   "outputs": [
    {
     "ename": "NameError",
     "evalue": "name 'normality' is not defined",
     "output_type": "error",
     "traceback": [
      "\u001b[1;31m---------------------------------------------------------------------------\u001b[0m",
      "\u001b[1;31mNameError\u001b[0m                                 Traceback (most recent call last)",
      "\u001b[1;32m<ipython-input-25-3f074ce755f8>\u001b[0m in \u001b[0;36m<module>\u001b[1;34m\u001b[0m\n\u001b[0;32m      1\u001b[0m \u001b[0mdt1\u001b[0m\u001b[1;33m[\u001b[0m\u001b[1;34m'age_rcp'\u001b[0m\u001b[1;33m]\u001b[0m \u001b[1;33m=\u001b[0m \u001b[1;36m1\u001b[0m\u001b[1;33m/\u001b[0m\u001b[0mdt1\u001b[0m\u001b[1;33m.\u001b[0m\u001b[0mage\u001b[0m\u001b[1;33m\u001b[0m\u001b[1;33m\u001b[0m\u001b[0m\n\u001b[1;32m----> 2\u001b[1;33m \u001b[0mnormality\u001b[0m\u001b[1;33m(\u001b[0m\u001b[0mdt1\u001b[0m\u001b[1;33m,\u001b[0m\u001b[1;34m'age_rcp'\u001b[0m\u001b[1;33m)\u001b[0m\u001b[1;33m\u001b[0m\u001b[1;33m\u001b[0m\u001b[0m\n\u001b[0m",
      "\u001b[1;31mNameError\u001b[0m: name 'normality' is not defined"
     ]
    }
   ],
   "source": [
    "dt1['age_rcp'] = 1/dt1.age\n",
    "normality(dt1,'age_rcp')"
   ]
  },
  {
   "cell_type": "code",
   "execution_count": 26,
   "metadata": {
    "executionInfo": {
     "elapsed": 66,
     "status": "aborted",
     "timestamp": 1638773929764,
     "user": {
      "displayName": "ADITYA CHAUHAN",
      "photoUrl": "https://lh3.googleusercontent.com/a-/AOh14GgTVLR3eVYgwEiknljwUC_xAl2-2F94ukwwfwKx1Q=s64",
      "userId": "16268924853158550743"
     },
     "user_tz": -330
    },
    "id": "4-fTBNyciQGv"
   },
   "outputs": [
    {
     "ename": "NameError",
     "evalue": "name 'normality' is not defined",
     "output_type": "error",
     "traceback": [
      "\u001b[1;31m---------------------------------------------------------------------------\u001b[0m",
      "\u001b[1;31mNameError\u001b[0m                                 Traceback (most recent call last)",
      "\u001b[1;32m<ipython-input-26-9e2018071168>\u001b[0m in \u001b[0;36m<module>\u001b[1;34m\u001b[0m\n\u001b[0;32m      1\u001b[0m \u001b[0mdt1\u001b[0m\u001b[1;33m[\u001b[0m\u001b[1;34m'age_sqrt'\u001b[0m\u001b[1;33m]\u001b[0m \u001b[1;33m=\u001b[0m \u001b[0mnp\u001b[0m\u001b[1;33m.\u001b[0m\u001b[0msqrt\u001b[0m\u001b[1;33m(\u001b[0m\u001b[0mdt1\u001b[0m\u001b[1;33m.\u001b[0m\u001b[0mage\u001b[0m\u001b[1;33m)\u001b[0m\u001b[1;33m\u001b[0m\u001b[1;33m\u001b[0m\u001b[0m\n\u001b[1;32m----> 2\u001b[1;33m \u001b[0mnormality\u001b[0m\u001b[1;33m(\u001b[0m\u001b[0mdt1\u001b[0m\u001b[1;33m,\u001b[0m\u001b[1;34m'age_sqrt'\u001b[0m\u001b[1;33m)\u001b[0m\u001b[1;33m\u001b[0m\u001b[1;33m\u001b[0m\u001b[0m\n\u001b[0m",
      "\u001b[1;31mNameError\u001b[0m: name 'normality' is not defined"
     ]
    }
   ],
   "source": [
    "dt1['age_sqrt'] = np.sqrt(dt1.age)\n",
    "normality(dt1,'age_sqrt')"
   ]
  },
  {
   "cell_type": "code",
   "execution_count": 27,
   "metadata": {
    "executionInfo": {
     "elapsed": 66,
     "status": "aborted",
     "timestamp": 1638773929764,
     "user": {
      "displayName": "ADITYA CHAUHAN",
      "photoUrl": "https://lh3.googleusercontent.com/a-/AOh14GgTVLR3eVYgwEiknljwUC_xAl2-2F94ukwwfwKx1Q=s64",
      "userId": "16268924853158550743"
     },
     "user_tz": -330
    },
    "id": "DetpIPbliQGv"
   },
   "outputs": [
    {
     "ename": "NameError",
     "evalue": "name 'normality' is not defined",
     "output_type": "error",
     "traceback": [
      "\u001b[1;31m---------------------------------------------------------------------------\u001b[0m",
      "\u001b[1;31mNameError\u001b[0m                                 Traceback (most recent call last)",
      "\u001b[1;32m<ipython-input-27-d2733cffef92>\u001b[0m in \u001b[0;36m<module>\u001b[1;34m\u001b[0m\n\u001b[0;32m      1\u001b[0m \u001b[0mdt1\u001b[0m\u001b[1;33m[\u001b[0m\u001b[1;34m'age_bcx'\u001b[0m\u001b[1;33m]\u001b[0m\u001b[1;33m,\u001b[0m\u001b[0mparameters\u001b[0m \u001b[1;33m=\u001b[0m \u001b[0mstats\u001b[0m\u001b[1;33m.\u001b[0m\u001b[0mboxcox\u001b[0m\u001b[1;33m(\u001b[0m\u001b[0mdt1\u001b[0m\u001b[1;33m[\u001b[0m\u001b[1;34m'age'\u001b[0m\u001b[1;33m]\u001b[0m\u001b[1;33m)\u001b[0m\u001b[1;33m\u001b[0m\u001b[1;33m\u001b[0m\u001b[0m\n\u001b[1;32m----> 2\u001b[1;33m \u001b[0mnormality\u001b[0m\u001b[1;33m(\u001b[0m\u001b[0mdt1\u001b[0m\u001b[1;33m,\u001b[0m\u001b[1;34m'age_bcx'\u001b[0m\u001b[1;33m)\u001b[0m\u001b[1;33m\u001b[0m\u001b[1;33m\u001b[0m\u001b[0m\n\u001b[0m",
      "\u001b[1;31mNameError\u001b[0m: name 'normality' is not defined"
     ]
    }
   ],
   "source": [
    "dt1['age_bcx'],parameters = stats.boxcox(dt1['age'])\n",
    "normality(dt1,'age_bcx')"
   ]
  },
  {
   "cell_type": "code",
   "execution_count": null,
   "metadata": {
    "executionInfo": {
     "elapsed": 67,
     "status": "aborted",
     "timestamp": 1638773929765,
     "user": {
      "displayName": "ADITYA CHAUHAN",
      "photoUrl": "https://lh3.googleusercontent.com/a-/AOh14GgTVLR3eVYgwEiknljwUC_xAl2-2F94ukwwfwKx1Q=s64",
      "userId": "16268924853158550743"
     },
     "user_tz": -330
    },
    "id": "Fgthxz8piQGv"
   },
   "outputs": [],
   "source": [
    "dt1['resting_blood_pressure_log'] = np.log(dt1['resting_blood_pressure'])\n",
    "normality(dt1,'resting_blood_pressure_log')"
   ]
  },
  {
   "cell_type": "code",
   "execution_count": null,
   "metadata": {
    "executionInfo": {
     "elapsed": 67,
     "status": "aborted",
     "timestamp": 1638773929765,
     "user": {
      "displayName": "ADITYA CHAUHAN",
      "photoUrl": "https://lh3.googleusercontent.com/a-/AOh14GgTVLR3eVYgwEiknljwUC_xAl2-2F94ukwwfwKx1Q=s64",
      "userId": "16268924853158550743"
     },
     "user_tz": -330
    },
    "id": "7Ayo_JA0iQGw"
   },
   "outputs": [],
   "source": [
    "dt1['resting_blood_pressure_rcp'] = 1/dt1.resting_blood_pressure\n",
    "normality(dt1,'resting_blood_pressure_rcp')"
   ]
  },
  {
   "cell_type": "code",
   "execution_count": null,
   "metadata": {
    "executionInfo": {
     "elapsed": 66,
     "status": "aborted",
     "timestamp": 1638773929765,
     "user": {
      "displayName": "ADITYA CHAUHAN",
      "photoUrl": "https://lh3.googleusercontent.com/a-/AOh14GgTVLR3eVYgwEiknljwUC_xAl2-2F94ukwwfwKx1Q=s64",
      "userId": "16268924853158550743"
     },
     "user_tz": -330
    },
    "id": "o2zz6DyFiQGw"
   },
   "outputs": [],
   "source": [
    "dt1['resting_blood_pressure_sqrt'] = np.sqrt(dt1.resting_blood_pressure)\n",
    "normality(dt1,'resting_blood_pressure_sqrt')"
   ]
  },
  {
   "cell_type": "code",
   "execution_count": null,
   "metadata": {
    "executionInfo": {
     "elapsed": 67,
     "status": "aborted",
     "timestamp": 1638773929766,
     "user": {
      "displayName": "ADITYA CHAUHAN",
      "photoUrl": "https://lh3.googleusercontent.com/a-/AOh14GgTVLR3eVYgwEiknljwUC_xAl2-2F94ukwwfwKx1Q=s64",
      "userId": "16268924853158550743"
     },
     "user_tz": -330
    },
    "id": "ZSf5wQyIiQGw"
   },
   "outputs": [],
   "source": [
    "dt1['resting_blood_pressure_exp'] = dt1.resting_blood_pressure**(1/1.2)\n",
    "normality(dt1,'resting_blood_pressure_exp')"
   ]
  },
  {
   "cell_type": "code",
   "execution_count": null,
   "metadata": {
    "executionInfo": {
     "elapsed": 66,
     "status": "aborted",
     "timestamp": 1638773929766,
     "user": {
      "displayName": "ADITYA CHAUHAN",
      "photoUrl": "https://lh3.googleusercontent.com/a-/AOh14GgTVLR3eVYgwEiknljwUC_xAl2-2F94ukwwfwKx1Q=s64",
      "userId": "16268924853158550743"
     },
     "user_tz": -330
    },
    "id": "Byo1zkqtiQGw"
   },
   "outputs": [],
   "source": [
    "dt1['resting_blood_pressure_box'],parameters = stats.boxcox(dt1['resting_blood_pressure'])\n",
    "normality(dt1,'resting_blood_pressure_box')"
   ]
  },
  {
   "cell_type": "code",
   "execution_count": null,
   "metadata": {
    "executionInfo": {
     "elapsed": 66,
     "status": "aborted",
     "timestamp": 1638773929766,
     "user": {
      "displayName": "ADITYA CHAUHAN",
      "photoUrl": "https://lh3.googleusercontent.com/a-/AOh14GgTVLR3eVYgwEiknljwUC_xAl2-2F94ukwwfwKx1Q=s64",
      "userId": "16268924853158550743"
     },
     "user_tz": -330
    },
    "id": "1FEEbRlAiQGx"
   },
   "outputs": [],
   "source": []
  },
  {
   "cell_type": "markdown",
   "metadata": {
    "id": "-MtQkxd_iQGx"
   },
   "source": [
    "# FEATURE ENGINEERING"
   ]
  },
  {
   "cell_type": "code",
   "execution_count": 34,
   "metadata": {
    "executionInfo": {
     "elapsed": 65,
     "status": "aborted",
     "timestamp": 1638773929766,
     "user": {
      "displayName": "ADITYA CHAUHAN",
      "photoUrl": "https://lh3.googleusercontent.com/a-/AOh14GgTVLR3eVYgwEiknljwUC_xAl2-2F94ukwwfwKx1Q=s64",
      "userId": "16268924853158550743"
     },
     "user_tz": -330
    },
    "id": "Go3qdH4wiQGx"
   },
   "outputs": [],
   "source": [
    "X = dt.iloc[:,:-1]\n",
    "Y = dt['target']"
   ]
  },
  {
   "cell_type": "code",
   "execution_count": 35,
   "metadata": {
    "executionInfo": {
     "elapsed": 66,
     "status": "aborted",
     "timestamp": 1638773929767,
     "user": {
      "displayName": "ADITYA CHAUHAN",
      "photoUrl": "https://lh3.googleusercontent.com/a-/AOh14GgTVLR3eVYgwEiknljwUC_xAl2-2F94ukwwfwKx1Q=s64",
      "userId": "16268924853158550743"
     },
     "user_tz": -330
    },
    "id": "_Yx8_S9IiQGx"
   },
   "outputs": [
    {
     "data": {
      "text/html": [
       "<div>\n",
       "<style scoped>\n",
       "    .dataframe tbody tr th:only-of-type {\n",
       "        vertical-align: middle;\n",
       "    }\n",
       "\n",
       "    .dataframe tbody tr th {\n",
       "        vertical-align: top;\n",
       "    }\n",
       "\n",
       "    .dataframe thead th {\n",
       "        text-align: right;\n",
       "    }\n",
       "</style>\n",
       "<table border=\"1\" class=\"dataframe\">\n",
       "  <thead>\n",
       "    <tr style=\"text-align: right;\">\n",
       "      <th></th>\n",
       "      <th>age</th>\n",
       "      <th>gender</th>\n",
       "      <th>chest_pain_type</th>\n",
       "      <th>resting_blood_pressure</th>\n",
       "      <th>cholesterol</th>\n",
       "      <th>fasting_blood_sugar</th>\n",
       "      <th>rest_ecg</th>\n",
       "      <th>max_heart_rate_achieved</th>\n",
       "      <th>exercise_induced_angina</th>\n",
       "      <th>st_depression</th>\n",
       "      <th>st_slope</th>\n",
       "      <th>num_major_vessels</th>\n",
       "      <th>thalassemia</th>\n",
       "    </tr>\n",
       "  </thead>\n",
       "  <tbody>\n",
       "    <tr>\n",
       "      <th>0</th>\n",
       "      <td>63</td>\n",
       "      <td>male</td>\n",
       "      <td>non-anginal pain</td>\n",
       "      <td>145</td>\n",
       "      <td>233</td>\n",
       "      <td>greater than 120mg/ml</td>\n",
       "      <td>normal</td>\n",
       "      <td>150</td>\n",
       "      <td>no</td>\n",
       "      <td>2.3</td>\n",
       "      <td>0</td>\n",
       "      <td>0</td>\n",
       "      <td>normal</td>\n",
       "    </tr>\n",
       "    <tr>\n",
       "      <th>1</th>\n",
       "      <td>37</td>\n",
       "      <td>male</td>\n",
       "      <td>atypical angina</td>\n",
       "      <td>130</td>\n",
       "      <td>250</td>\n",
       "      <td>lower than 120mg/ml</td>\n",
       "      <td>ST-T wave abnormality</td>\n",
       "      <td>187</td>\n",
       "      <td>no</td>\n",
       "      <td>3.5</td>\n",
       "      <td>0</td>\n",
       "      <td>0</td>\n",
       "      <td>fixed defect</td>\n",
       "    </tr>\n",
       "    <tr>\n",
       "      <th>2</th>\n",
       "      <td>41</td>\n",
       "      <td>female</td>\n",
       "      <td>typical angina</td>\n",
       "      <td>130</td>\n",
       "      <td>204</td>\n",
       "      <td>lower than 120mg/ml</td>\n",
       "      <td>normal</td>\n",
       "      <td>172</td>\n",
       "      <td>no</td>\n",
       "      <td>1.4</td>\n",
       "      <td>flat</td>\n",
       "      <td>0</td>\n",
       "      <td>fixed defect</td>\n",
       "    </tr>\n",
       "    <tr>\n",
       "      <th>3</th>\n",
       "      <td>56</td>\n",
       "      <td>male</td>\n",
       "      <td>typical angina</td>\n",
       "      <td>120</td>\n",
       "      <td>236</td>\n",
       "      <td>lower than 120mg/ml</td>\n",
       "      <td>ST-T wave abnormality</td>\n",
       "      <td>178</td>\n",
       "      <td>no</td>\n",
       "      <td>0.8</td>\n",
       "      <td>flat</td>\n",
       "      <td>0</td>\n",
       "      <td>fixed defect</td>\n",
       "    </tr>\n",
       "    <tr>\n",
       "      <th>4</th>\n",
       "      <td>57</td>\n",
       "      <td>female</td>\n",
       "      <td>0</td>\n",
       "      <td>120</td>\n",
       "      <td>354</td>\n",
       "      <td>lower than 120mg/ml</td>\n",
       "      <td>ST-T wave abnormality</td>\n",
       "      <td>163</td>\n",
       "      <td>yes</td>\n",
       "      <td>0.6</td>\n",
       "      <td>flat</td>\n",
       "      <td>0</td>\n",
       "      <td>fixed defect</td>\n",
       "    </tr>\n",
       "  </tbody>\n",
       "</table>\n",
       "</div>"
      ],
      "text/plain": [
       "   age  gender   chest_pain_type  resting_blood_pressure  cholesterol  \\\n",
       "0   63    male  non-anginal pain                     145          233   \n",
       "1   37    male   atypical angina                     130          250   \n",
       "2   41  female    typical angina                     130          204   \n",
       "3   56    male    typical angina                     120          236   \n",
       "4   57  female                 0                     120          354   \n",
       "\n",
       "     fasting_blood_sugar               rest_ecg  max_heart_rate_achieved  \\\n",
       "0  greater than 120mg/ml                 normal                      150   \n",
       "1    lower than 120mg/ml  ST-T wave abnormality                      187   \n",
       "2    lower than 120mg/ml                 normal                      172   \n",
       "3    lower than 120mg/ml  ST-T wave abnormality                      178   \n",
       "4    lower than 120mg/ml  ST-T wave abnormality                      163   \n",
       "\n",
       "  exercise_induced_angina  st_depression st_slope  num_major_vessels  \\\n",
       "0                      no            2.3        0                  0   \n",
       "1                      no            3.5        0                  0   \n",
       "2                      no            1.4     flat                  0   \n",
       "3                      no            0.8     flat                  0   \n",
       "4                     yes            0.6     flat                  0   \n",
       "\n",
       "    thalassemia  \n",
       "0        normal  \n",
       "1  fixed defect  \n",
       "2  fixed defect  \n",
       "3  fixed defect  \n",
       "4  fixed defect  "
      ]
     },
     "execution_count": 35,
     "metadata": {},
     "output_type": "execute_result"
    }
   ],
   "source": [
    "X.head()"
   ]
  },
  {
   "cell_type": "code",
   "execution_count": 36,
   "metadata": {
    "executionInfo": {
     "elapsed": 66,
     "status": "aborted",
     "timestamp": 1638773929767,
     "user": {
      "displayName": "ADITYA CHAUHAN",
      "photoUrl": "https://lh3.googleusercontent.com/a-/AOh14GgTVLR3eVYgwEiknljwUC_xAl2-2F94ukwwfwKx1Q=s64",
      "userId": "16268924853158550743"
     },
     "user_tz": -330
    },
    "id": "ffxdLqFKiQGy"
   },
   "outputs": [
    {
     "data": {
      "text/plain": [
       "0    1\n",
       "1    1\n",
       "2    1\n",
       "3    1\n",
       "4    1\n",
       "Name: target, dtype: int64"
      ]
     },
     "execution_count": 36,
     "metadata": {},
     "output_type": "execute_result"
    }
   ],
   "source": [
    "Y.head()"
   ]
  },
  {
   "cell_type": "markdown",
   "metadata": {
    "id": "6jKU1I2MiQGy"
   },
   "source": [
    "# ONE HOT ENCODER"
   ]
  },
  {
   "cell_type": "code",
   "execution_count": 37,
   "metadata": {
    "executionInfo": {
     "elapsed": 65,
     "status": "aborted",
     "timestamp": 1638773929767,
     "user": {
      "displayName": "ADITYA CHAUHAN",
      "photoUrl": "https://lh3.googleusercontent.com/a-/AOh14GgTVLR3eVYgwEiknljwUC_xAl2-2F94ukwwfwKx1Q=s64",
      "userId": "16268924853158550743"
     },
     "user_tz": -330
    },
    "id": "EbIMj-0XiQGy"
   },
   "outputs": [],
   "source": [
    "x = pd.get_dummies(X, drop_first=True)"
   ]
  },
  {
   "cell_type": "code",
   "execution_count": 38,
   "metadata": {
    "executionInfo": {
     "elapsed": 65,
     "status": "aborted",
     "timestamp": 1638773929767,
     "user": {
      "displayName": "ADITYA CHAUHAN",
      "photoUrl": "https://lh3.googleusercontent.com/a-/AOh14GgTVLR3eVYgwEiknljwUC_xAl2-2F94ukwwfwKx1Q=s64",
      "userId": "16268924853158550743"
     },
     "user_tz": -330
    },
    "id": "8zQTqBjZiQGy"
   },
   "outputs": [
    {
     "data": {
      "text/html": [
       "<div>\n",
       "<style scoped>\n",
       "    .dataframe tbody tr th:only-of-type {\n",
       "        vertical-align: middle;\n",
       "    }\n",
       "\n",
       "    .dataframe tbody tr th {\n",
       "        vertical-align: top;\n",
       "    }\n",
       "\n",
       "    .dataframe thead th {\n",
       "        text-align: right;\n",
       "    }\n",
       "</style>\n",
       "<table border=\"1\" class=\"dataframe\">\n",
       "  <thead>\n",
       "    <tr style=\"text-align: right;\">\n",
       "      <th></th>\n",
       "      <th>age</th>\n",
       "      <th>resting_blood_pressure</th>\n",
       "      <th>cholesterol</th>\n",
       "      <th>max_heart_rate_achieved</th>\n",
       "      <th>st_depression</th>\n",
       "      <th>num_major_vessels</th>\n",
       "      <th>gender_male</th>\n",
       "      <th>chest_pain_type_atypical angina</th>\n",
       "      <th>chest_pain_type_non-anginal pain</th>\n",
       "      <th>chest_pain_type_typical angina</th>\n",
       "      <th>fasting_blood_sugar_lower than 120mg/ml</th>\n",
       "      <th>rest_ecg_left ventricular hypertrophy</th>\n",
       "      <th>rest_ecg_normal</th>\n",
       "      <th>exercise_induced_angina_yes</th>\n",
       "      <th>st_slope_flat</th>\n",
       "      <th>st_slope_upsloping</th>\n",
       "      <th>thalassemia_fixed defect</th>\n",
       "      <th>thalassemia_normal</th>\n",
       "      <th>thalassemia_reversable defect</th>\n",
       "    </tr>\n",
       "  </thead>\n",
       "  <tbody>\n",
       "    <tr>\n",
       "      <th>0</th>\n",
       "      <td>63</td>\n",
       "      <td>145</td>\n",
       "      <td>233</td>\n",
       "      <td>150</td>\n",
       "      <td>2.3</td>\n",
       "      <td>0</td>\n",
       "      <td>1</td>\n",
       "      <td>0</td>\n",
       "      <td>1</td>\n",
       "      <td>0</td>\n",
       "      <td>0</td>\n",
       "      <td>0</td>\n",
       "      <td>1</td>\n",
       "      <td>0</td>\n",
       "      <td>0</td>\n",
       "      <td>0</td>\n",
       "      <td>0</td>\n",
       "      <td>1</td>\n",
       "      <td>0</td>\n",
       "    </tr>\n",
       "    <tr>\n",
       "      <th>1</th>\n",
       "      <td>37</td>\n",
       "      <td>130</td>\n",
       "      <td>250</td>\n",
       "      <td>187</td>\n",
       "      <td>3.5</td>\n",
       "      <td>0</td>\n",
       "      <td>1</td>\n",
       "      <td>1</td>\n",
       "      <td>0</td>\n",
       "      <td>0</td>\n",
       "      <td>1</td>\n",
       "      <td>0</td>\n",
       "      <td>0</td>\n",
       "      <td>0</td>\n",
       "      <td>0</td>\n",
       "      <td>0</td>\n",
       "      <td>1</td>\n",
       "      <td>0</td>\n",
       "      <td>0</td>\n",
       "    </tr>\n",
       "    <tr>\n",
       "      <th>2</th>\n",
       "      <td>41</td>\n",
       "      <td>130</td>\n",
       "      <td>204</td>\n",
       "      <td>172</td>\n",
       "      <td>1.4</td>\n",
       "      <td>0</td>\n",
       "      <td>0</td>\n",
       "      <td>0</td>\n",
       "      <td>0</td>\n",
       "      <td>1</td>\n",
       "      <td>1</td>\n",
       "      <td>0</td>\n",
       "      <td>1</td>\n",
       "      <td>0</td>\n",
       "      <td>1</td>\n",
       "      <td>0</td>\n",
       "      <td>1</td>\n",
       "      <td>0</td>\n",
       "      <td>0</td>\n",
       "    </tr>\n",
       "    <tr>\n",
       "      <th>3</th>\n",
       "      <td>56</td>\n",
       "      <td>120</td>\n",
       "      <td>236</td>\n",
       "      <td>178</td>\n",
       "      <td>0.8</td>\n",
       "      <td>0</td>\n",
       "      <td>1</td>\n",
       "      <td>0</td>\n",
       "      <td>0</td>\n",
       "      <td>1</td>\n",
       "      <td>1</td>\n",
       "      <td>0</td>\n",
       "      <td>0</td>\n",
       "      <td>0</td>\n",
       "      <td>1</td>\n",
       "      <td>0</td>\n",
       "      <td>1</td>\n",
       "      <td>0</td>\n",
       "      <td>0</td>\n",
       "    </tr>\n",
       "    <tr>\n",
       "      <th>4</th>\n",
       "      <td>57</td>\n",
       "      <td>120</td>\n",
       "      <td>354</td>\n",
       "      <td>163</td>\n",
       "      <td>0.6</td>\n",
       "      <td>0</td>\n",
       "      <td>0</td>\n",
       "      <td>0</td>\n",
       "      <td>0</td>\n",
       "      <td>0</td>\n",
       "      <td>1</td>\n",
       "      <td>0</td>\n",
       "      <td>0</td>\n",
       "      <td>1</td>\n",
       "      <td>1</td>\n",
       "      <td>0</td>\n",
       "      <td>1</td>\n",
       "      <td>0</td>\n",
       "      <td>0</td>\n",
       "    </tr>\n",
       "  </tbody>\n",
       "</table>\n",
       "</div>"
      ],
      "text/plain": [
       "   age  resting_blood_pressure  cholesterol  max_heart_rate_achieved  \\\n",
       "0   63                     145          233                      150   \n",
       "1   37                     130          250                      187   \n",
       "2   41                     130          204                      172   \n",
       "3   56                     120          236                      178   \n",
       "4   57                     120          354                      163   \n",
       "\n",
       "   st_depression  num_major_vessels  gender_male  \\\n",
       "0            2.3                  0            1   \n",
       "1            3.5                  0            1   \n",
       "2            1.4                  0            0   \n",
       "3            0.8                  0            1   \n",
       "4            0.6                  0            0   \n",
       "\n",
       "   chest_pain_type_atypical angina  chest_pain_type_non-anginal pain  \\\n",
       "0                                0                                 1   \n",
       "1                                1                                 0   \n",
       "2                                0                                 0   \n",
       "3                                0                                 0   \n",
       "4                                0                                 0   \n",
       "\n",
       "   chest_pain_type_typical angina  fasting_blood_sugar_lower than 120mg/ml  \\\n",
       "0                               0                                        0   \n",
       "1                               0                                        1   \n",
       "2                               1                                        1   \n",
       "3                               1                                        1   \n",
       "4                               0                                        1   \n",
       "\n",
       "   rest_ecg_left ventricular hypertrophy  rest_ecg_normal  \\\n",
       "0                                      0                1   \n",
       "1                                      0                0   \n",
       "2                                      0                1   \n",
       "3                                      0                0   \n",
       "4                                      0                0   \n",
       "\n",
       "   exercise_induced_angina_yes  st_slope_flat  st_slope_upsloping  \\\n",
       "0                            0              0                   0   \n",
       "1                            0              0                   0   \n",
       "2                            0              1                   0   \n",
       "3                            0              1                   0   \n",
       "4                            1              1                   0   \n",
       "\n",
       "   thalassemia_fixed defect  thalassemia_normal  thalassemia_reversable defect  \n",
       "0                         0                   1                              0  \n",
       "1                         1                   0                              0  \n",
       "2                         1                   0                              0  \n",
       "3                         1                   0                              0  \n",
       "4                         1                   0                              0  "
      ]
     },
     "execution_count": 38,
     "metadata": {},
     "output_type": "execute_result"
    }
   ],
   "source": [
    "x.head()"
   ]
  },
  {
   "cell_type": "code",
   "execution_count": 39,
   "metadata": {
    "executionInfo": {
     "elapsed": 66,
     "status": "aborted",
     "timestamp": 1638773929768,
     "user": {
      "displayName": "ADITYA CHAUHAN",
      "photoUrl": "https://lh3.googleusercontent.com/a-/AOh14GgTVLR3eVYgwEiknljwUC_xAl2-2F94ukwwfwKx1Q=s64",
      "userId": "16268924853158550743"
     },
     "user_tz": -330
    },
    "id": "aWkKhAaliQGz"
   },
   "outputs": [
    {
     "data": {
      "text/plain": [
       "(303, 19)"
      ]
     },
     "execution_count": 39,
     "metadata": {},
     "output_type": "execute_result"
    }
   ],
   "source": [
    "x.shape"
   ]
  },
  {
   "cell_type": "markdown",
   "metadata": {
    "id": "4fzSzrnQiQGz"
   },
   "source": [
    "# FEATURE SELECTION"
   ]
  },
  {
   "cell_type": "code",
   "execution_count": null,
   "metadata": {
    "executionInfo": {
     "elapsed": 65,
     "status": "aborted",
     "timestamp": 1638773929768,
     "user": {
      "displayName": "ADITYA CHAUHAN",
      "photoUrl": "https://lh3.googleusercontent.com/a-/AOh14GgTVLR3eVYgwEiknljwUC_xAl2-2F94ukwwfwKx1Q=s64",
      "userId": "16268924853158550743"
     },
     "user_tz": -330
    },
    "id": "6wT3kFX-iQGz"
   },
   "outputs": [],
   "source": [
    "from sklearn.feature_selection import SelectKBest\n",
    "from sklearn.feature_selection import chi2"
   ]
  },
  {
   "cell_type": "code",
   "execution_count": null,
   "metadata": {
    "executionInfo": {
     "elapsed": 65,
     "status": "aborted",
     "timestamp": 1638773929768,
     "user": {
      "displayName": "ADITYA CHAUHAN",
      "photoUrl": "https://lh3.googleusercontent.com/a-/AOh14GgTVLR3eVYgwEiknljwUC_xAl2-2F94ukwwfwKx1Q=s64",
      "userId": "16268924853158550743"
     },
     "user_tz": -330
    },
    "id": "x0el1rhgiQG0"
   },
   "outputs": [],
   "source": [
    "### Apply SelectKBest Algorithm\n",
    "ordered_rank_features=SelectKBest(score_func=chi2,k=19)\n",
    "ordered_feature=ordered_rank_features.fit(x,Y)"
   ]
  },
  {
   "cell_type": "code",
   "execution_count": null,
   "metadata": {
    "executionInfo": {
     "elapsed": 66,
     "status": "aborted",
     "timestamp": 1638773929769,
     "user": {
      "displayName": "ADITYA CHAUHAN",
      "photoUrl": "https://lh3.googleusercontent.com/a-/AOh14GgTVLR3eVYgwEiknljwUC_xAl2-2F94ukwwfwKx1Q=s64",
      "userId": "16268924853158550743"
     },
     "user_tz": -330
    },
    "id": "a4eCgi2iiQG0"
   },
   "outputs": [],
   "source": [
    "dtscores=pd.DataFrame(ordered_feature.scores_,columns=[\"Score\"])\n",
    "dtcolumns=pd.DataFrame(x.columns)"
   ]
  },
  {
   "cell_type": "code",
   "execution_count": null,
   "metadata": {
    "executionInfo": {
     "elapsed": 65,
     "status": "aborted",
     "timestamp": 1638773929769,
     "user": {
      "displayName": "ADITYA CHAUHAN",
      "photoUrl": "https://lh3.googleusercontent.com/a-/AOh14GgTVLR3eVYgwEiknljwUC_xAl2-2F94ukwwfwKx1Q=s64",
      "userId": "16268924853158550743"
     },
     "user_tz": -330
    },
    "id": "AijlLNHliQG1"
   },
   "outputs": [],
   "source": [
    "features_rank=pd.concat([dtcolumns,dtscores],axis=1)"
   ]
  },
  {
   "cell_type": "code",
   "execution_count": null,
   "metadata": {
    "executionInfo": {
     "elapsed": 66,
     "status": "aborted",
     "timestamp": 1638773929770,
     "user": {
      "displayName": "ADITYA CHAUHAN",
      "photoUrl": "https://lh3.googleusercontent.com/a-/AOh14GgTVLR3eVYgwEiknljwUC_xAl2-2F94ukwwfwKx1Q=s64",
      "userId": "16268924853158550743"
     },
     "user_tz": -330
    },
    "id": "78zQh8RuiQG1"
   },
   "outputs": [],
   "source": [
    "features_rank.columns=['Features','Score']\n",
    "features_rank"
   ]
  },
  {
   "cell_type": "code",
   "execution_count": null,
   "metadata": {
    "executionInfo": {
     "elapsed": 65,
     "status": "aborted",
     "timestamp": 1638773929770,
     "user": {
      "displayName": "ADITYA CHAUHAN",
      "photoUrl": "https://lh3.googleusercontent.com/a-/AOh14GgTVLR3eVYgwEiknljwUC_xAl2-2F94ukwwfwKx1Q=s64",
      "userId": "16268924853158550743"
     },
     "user_tz": -330
    },
    "id": "SYlm4ZFmiQG2"
   },
   "outputs": [],
   "source": [
    "features_rank.nlargest(10,'Score')"
   ]
  },
  {
   "cell_type": "markdown",
   "metadata": {
    "id": "VAn697cPiQG2"
   },
   "source": [
    "# Feature Importance\n",
    "\n",
    "\n"
   ]
  },
  {
   "cell_type": "markdown",
   "metadata": {
    "id": "G05kgE9hiQG2"
   },
   "source": [
    "This technique gives you a score for each feature of your data,the higher the score mor relevant it is"
   ]
  },
  {
   "cell_type": "code",
   "execution_count": null,
   "metadata": {
    "executionInfo": {
     "elapsed": 65,
     "status": "aborted",
     "timestamp": 1638773929770,
     "user": {
      "displayName": "ADITYA CHAUHAN",
      "photoUrl": "https://lh3.googleusercontent.com/a-/AOh14GgTVLR3eVYgwEiknljwUC_xAl2-2F94ukwwfwKx1Q=s64",
      "userId": "16268924853158550743"
     },
     "user_tz": -330
    },
    "id": "Z1dsTukhiQG2"
   },
   "outputs": [],
   "source": [
    "from sklearn.ensemble import ExtraTreesClassifier\n",
    "#import matplotlib.pyplot as plt\n",
    "model=ExtraTreesClassifier()\n",
    "model.fit(x,Y)"
   ]
  },
  {
   "cell_type": "code",
   "execution_count": null,
   "metadata": {
    "executionInfo": {
     "elapsed": 66,
     "status": "aborted",
     "timestamp": 1638773929771,
     "user": {
      "displayName": "ADITYA CHAUHAN",
      "photoUrl": "https://lh3.googleusercontent.com/a-/AOh14GgTVLR3eVYgwEiknljwUC_xAl2-2F94ukwwfwKx1Q=s64",
      "userId": "16268924853158550743"
     },
     "user_tz": -330
    },
    "id": "zhPVik2CiQG3"
   },
   "outputs": [],
   "source": [
    "print(model.feature_importances_)"
   ]
  },
  {
   "cell_type": "code",
   "execution_count": null,
   "metadata": {
    "executionInfo": {
     "elapsed": 65,
     "status": "aborted",
     "timestamp": 1638773929771,
     "user": {
      "displayName": "ADITYA CHAUHAN",
      "photoUrl": "https://lh3.googleusercontent.com/a-/AOh14GgTVLR3eVYgwEiknljwUC_xAl2-2F94ukwwfwKx1Q=s64",
      "userId": "16268924853158550743"
     },
     "user_tz": -330
    },
    "id": "DdM4K7AniQG4"
   },
   "outputs": [],
   "source": [
    "ranked_features=pd.Series(model.feature_importances_,index=x.columns)\n",
    "ranked_features.nlargest(10).plot(kind='barh')\n",
    "plt.show()"
   ]
  },
  {
   "cell_type": "markdown",
   "metadata": {
    "id": "1vw9DSoriQG4"
   },
   "source": [
    "# Remove the uncorrelated features"
   ]
  },
  {
   "cell_type": "code",
   "execution_count": null,
   "metadata": {
    "executionInfo": {
     "elapsed": 64,
     "status": "aborted",
     "timestamp": 1638773929771,
     "user": {
      "displayName": "ADITYA CHAUHAN",
      "photoUrl": "https://lh3.googleusercontent.com/a-/AOh14GgTVLR3eVYgwEiknljwUC_xAl2-2F94ukwwfwKx1Q=s64",
      "userId": "16268924853158550743"
     },
     "user_tz": -330
    },
    "id": "SjN8ir9YiQG4"
   },
   "outputs": [],
   "source": [
    "threshold=0.2"
   ]
  },
  {
   "cell_type": "code",
   "execution_count": null,
   "metadata": {
    "executionInfo": {
     "elapsed": 65,
     "status": "aborted",
     "timestamp": 1638773929772,
     "user": {
      "displayName": "ADITYA CHAUHAN",
      "photoUrl": "https://lh3.googleusercontent.com/a-/AOh14GgTVLR3eVYgwEiknljwUC_xAl2-2F94ukwwfwKx1Q=s64",
      "userId": "16268924853158550743"
     },
     "user_tz": -330
    },
    "id": "FL4k0_guiQG4"
   },
   "outputs": [],
   "source": [
    "# find and remove correlated features\n",
    "def correlation(dataset, threshold):\n",
    "    col_corr = set()  # Set of all the names of correlated columns\n",
    "    corr_matrix = dataset.corr()\n",
    "    for i in range(len(corr_matrix.columns)):\n",
    "        for j in range(i):\n",
    "            if abs(corr_matrix.iloc[i, j]) > threshold: # we are interested in absolute coeff value\n",
    "                colname = corr_matrix.columns[i]  # getting the name of column\n",
    "                col_corr.add(colname)\n",
    "    return col_corr"
   ]
  },
  {
   "cell_type": "code",
   "execution_count": null,
   "metadata": {
    "executionInfo": {
     "elapsed": 66,
     "status": "aborted",
     "timestamp": 1638773929773,
     "user": {
      "displayName": "ADITYA CHAUHAN",
      "photoUrl": "https://lh3.googleusercontent.com/a-/AOh14GgTVLR3eVYgwEiknljwUC_xAl2-2F94ukwwfwKx1Q=s64",
      "userId": "16268924853158550743"
     },
     "user_tz": -330
    },
    "id": "Apr75lFiiQG5"
   },
   "outputs": [],
   "source": [
    "correlation(x,threshold)"
   ]
  },
  {
   "cell_type": "markdown",
   "metadata": {
    "id": "N6W51ZnaiQG5"
   },
   "source": [
    "# INFORMATION GAIN"
   ]
  },
  {
   "cell_type": "code",
   "execution_count": null,
   "metadata": {
    "executionInfo": {
     "elapsed": 65,
     "status": "aborted",
     "timestamp": 1638773929773,
     "user": {
      "displayName": "ADITYA CHAUHAN",
      "photoUrl": "https://lh3.googleusercontent.com/a-/AOh14GgTVLR3eVYgwEiknljwUC_xAl2-2F94ukwwfwKx1Q=s64",
      "userId": "16268924853158550743"
     },
     "user_tz": -330
    },
    "id": "aSfbNOxKiQG5"
   },
   "outputs": [],
   "source": [
    "from sklearn.feature_selection import mutual_info_classif"
   ]
  },
  {
   "cell_type": "code",
   "execution_count": null,
   "metadata": {
    "executionInfo": {
     "elapsed": 65,
     "status": "aborted",
     "timestamp": 1638773929773,
     "user": {
      "displayName": "ADITYA CHAUHAN",
      "photoUrl": "https://lh3.googleusercontent.com/a-/AOh14GgTVLR3eVYgwEiknljwUC_xAl2-2F94ukwwfwKx1Q=s64",
      "userId": "16268924853158550743"
     },
     "user_tz": -330
    },
    "id": "vyx-QoW6iQG5"
   },
   "outputs": [],
   "source": [
    "mutual_info=mutual_info_classif(x,Y)"
   ]
  },
  {
   "cell_type": "code",
   "execution_count": null,
   "metadata": {
    "executionInfo": {
     "elapsed": 64,
     "status": "aborted",
     "timestamp": 1638773929773,
     "user": {
      "displayName": "ADITYA CHAUHAN",
      "photoUrl": "https://lh3.googleusercontent.com/a-/AOh14GgTVLR3eVYgwEiknljwUC_xAl2-2F94ukwwfwKx1Q=s64",
      "userId": "16268924853158550743"
     },
     "user_tz": -330
    },
    "id": "bOua0LuSiQG6"
   },
   "outputs": [],
   "source": [
    "mutual_data=pd.Series(mutual_info,index=x.columns)\n",
    "mutual_data.sort_values(ascending=False)"
   ]
  },
  {
   "cell_type": "code",
   "execution_count": null,
   "metadata": {
    "executionInfo": {
     "elapsed": 65,
     "status": "aborted",
     "timestamp": 1638773929774,
     "user": {
      "displayName": "ADITYA CHAUHAN",
      "photoUrl": "https://lh3.googleusercontent.com/a-/AOh14GgTVLR3eVYgwEiknljwUC_xAl2-2F94ukwwfwKx1Q=s64",
      "userId": "16268924853158550743"
     },
     "user_tz": -330
    },
    "id": "Db1rr2F2iQG6"
   },
   "outputs": [],
   "source": [
    "selected_features = []\n",
    "rfe = RFE(LogisticRegression())\n",
    "\n",
    "rfe.fit(x.values, Y.values)\n",
    "\n",
    "for i, feature in enumerate(x.columns.values):\n",
    "    if rfe.support_[i]:\n",
    "        selected_features.append(feature)\n",
    "\n",
    "selected_X = x[selected_features]\n",
    "selected_y = Y\n",
    "\n",
    "lm = sm.Logit(selected_y, selected_X)\n",
    "result = lm.fit()\n",
    "\n",
    "print(result.summary2())"
   ]
  },
  {
   "cell_type": "markdown",
   "metadata": {
    "id": "fBS-8DY-iQG6"
   },
   "source": [
    "# DATA SPLITING"
   ]
  },
  {
   "cell_type": "code",
   "execution_count": 40,
   "metadata": {
    "executionInfo": {
     "elapsed": 65,
     "status": "aborted",
     "timestamp": 1638773929774,
     "user": {
      "displayName": "ADITYA CHAUHAN",
      "photoUrl": "https://lh3.googleusercontent.com/a-/AOh14GgTVLR3eVYgwEiknljwUC_xAl2-2F94ukwwfwKx1Q=s64",
      "userId": "16268924853158550743"
     },
     "user_tz": -330
    },
    "id": "R4BDjTECiQG7"
   },
   "outputs": [],
   "source": [
    "X_train, X_test, Y_train, Y_test = train_test_split(x,Y, test_size = .2, random_state=10) #split the data"
   ]
  },
  {
   "cell_type": "code",
   "execution_count": 41,
   "metadata": {
    "executionInfo": {
     "elapsed": 65,
     "status": "aborted",
     "timestamp": 1638773929775,
     "user": {
      "displayName": "ADITYA CHAUHAN",
      "photoUrl": "https://lh3.googleusercontent.com/a-/AOh14GgTVLR3eVYgwEiknljwUC_xAl2-2F94ukwwfwKx1Q=s64",
      "userId": "16268924853158550743"
     },
     "user_tz": -330
    },
    "id": "2BBBM-00iQG7"
   },
   "outputs": [
    {
     "data": {
      "text/html": [
       "<div>\n",
       "<style scoped>\n",
       "    .dataframe tbody tr th:only-of-type {\n",
       "        vertical-align: middle;\n",
       "    }\n",
       "\n",
       "    .dataframe tbody tr th {\n",
       "        vertical-align: top;\n",
       "    }\n",
       "\n",
       "    .dataframe thead th {\n",
       "        text-align: right;\n",
       "    }\n",
       "</style>\n",
       "<table border=\"1\" class=\"dataframe\">\n",
       "  <thead>\n",
       "    <tr style=\"text-align: right;\">\n",
       "      <th></th>\n",
       "      <th>age</th>\n",
       "      <th>resting_blood_pressure</th>\n",
       "      <th>cholesterol</th>\n",
       "      <th>max_heart_rate_achieved</th>\n",
       "      <th>st_depression</th>\n",
       "      <th>num_major_vessels</th>\n",
       "      <th>gender_male</th>\n",
       "      <th>chest_pain_type_atypical angina</th>\n",
       "      <th>chest_pain_type_non-anginal pain</th>\n",
       "      <th>chest_pain_type_typical angina</th>\n",
       "      <th>fasting_blood_sugar_lower than 120mg/ml</th>\n",
       "      <th>rest_ecg_left ventricular hypertrophy</th>\n",
       "      <th>rest_ecg_normal</th>\n",
       "      <th>exercise_induced_angina_yes</th>\n",
       "      <th>st_slope_flat</th>\n",
       "      <th>st_slope_upsloping</th>\n",
       "      <th>thalassemia_fixed defect</th>\n",
       "      <th>thalassemia_normal</th>\n",
       "      <th>thalassemia_reversable defect</th>\n",
       "    </tr>\n",
       "  </thead>\n",
       "  <tbody>\n",
       "    <tr>\n",
       "      <th>286</th>\n",
       "      <td>59</td>\n",
       "      <td>134</td>\n",
       "      <td>204</td>\n",
       "      <td>162</td>\n",
       "      <td>0.8</td>\n",
       "      <td>2</td>\n",
       "      <td>1</td>\n",
       "      <td>0</td>\n",
       "      <td>1</td>\n",
       "      <td>0</td>\n",
       "      <td>1</td>\n",
       "      <td>0</td>\n",
       "      <td>0</td>\n",
       "      <td>0</td>\n",
       "      <td>1</td>\n",
       "      <td>0</td>\n",
       "      <td>1</td>\n",
       "      <td>0</td>\n",
       "      <td>0</td>\n",
       "    </tr>\n",
       "    <tr>\n",
       "      <th>102</th>\n",
       "      <td>63</td>\n",
       "      <td>140</td>\n",
       "      <td>195</td>\n",
       "      <td>179</td>\n",
       "      <td>0.0</td>\n",
       "      <td>2</td>\n",
       "      <td>0</td>\n",
       "      <td>0</td>\n",
       "      <td>0</td>\n",
       "      <td>1</td>\n",
       "      <td>1</td>\n",
       "      <td>0</td>\n",
       "      <td>0</td>\n",
       "      <td>0</td>\n",
       "      <td>1</td>\n",
       "      <td>0</td>\n",
       "      <td>1</td>\n",
       "      <td>0</td>\n",
       "      <td>0</td>\n",
       "    </tr>\n",
       "    <tr>\n",
       "      <th>242</th>\n",
       "      <td>64</td>\n",
       "      <td>145</td>\n",
       "      <td>212</td>\n",
       "      <td>132</td>\n",
       "      <td>2.0</td>\n",
       "      <td>2</td>\n",
       "      <td>1</td>\n",
       "      <td>0</td>\n",
       "      <td>0</td>\n",
       "      <td>0</td>\n",
       "      <td>1</td>\n",
       "      <td>0</td>\n",
       "      <td>1</td>\n",
       "      <td>0</td>\n",
       "      <td>0</td>\n",
       "      <td>1</td>\n",
       "      <td>0</td>\n",
       "      <td>1</td>\n",
       "      <td>0</td>\n",
       "    </tr>\n",
       "    <tr>\n",
       "      <th>65</th>\n",
       "      <td>35</td>\n",
       "      <td>138</td>\n",
       "      <td>183</td>\n",
       "      <td>182</td>\n",
       "      <td>1.4</td>\n",
       "      <td>0</td>\n",
       "      <td>0</td>\n",
       "      <td>0</td>\n",
       "      <td>0</td>\n",
       "      <td>0</td>\n",
       "      <td>1</td>\n",
       "      <td>0</td>\n",
       "      <td>0</td>\n",
       "      <td>0</td>\n",
       "      <td>1</td>\n",
       "      <td>0</td>\n",
       "      <td>1</td>\n",
       "      <td>0</td>\n",
       "      <td>0</td>\n",
       "    </tr>\n",
       "    <tr>\n",
       "      <th>35</th>\n",
       "      <td>46</td>\n",
       "      <td>142</td>\n",
       "      <td>177</td>\n",
       "      <td>160</td>\n",
       "      <td>1.4</td>\n",
       "      <td>0</td>\n",
       "      <td>0</td>\n",
       "      <td>1</td>\n",
       "      <td>0</td>\n",
       "      <td>0</td>\n",
       "      <td>1</td>\n",
       "      <td>0</td>\n",
       "      <td>1</td>\n",
       "      <td>1</td>\n",
       "      <td>0</td>\n",
       "      <td>0</td>\n",
       "      <td>1</td>\n",
       "      <td>0</td>\n",
       "      <td>0</td>\n",
       "    </tr>\n",
       "    <tr>\n",
       "      <th>...</th>\n",
       "      <td>...</td>\n",
       "      <td>...</td>\n",
       "      <td>...</td>\n",
       "      <td>...</td>\n",
       "      <td>...</td>\n",
       "      <td>...</td>\n",
       "      <td>...</td>\n",
       "      <td>...</td>\n",
       "      <td>...</td>\n",
       "      <td>...</td>\n",
       "      <td>...</td>\n",
       "      <td>...</td>\n",
       "      <td>...</td>\n",
       "      <td>...</td>\n",
       "      <td>...</td>\n",
       "      <td>...</td>\n",
       "      <td>...</td>\n",
       "      <td>...</td>\n",
       "      <td>...</td>\n",
       "    </tr>\n",
       "    <tr>\n",
       "      <th>156</th>\n",
       "      <td>47</td>\n",
       "      <td>130</td>\n",
       "      <td>253</td>\n",
       "      <td>179</td>\n",
       "      <td>0.0</td>\n",
       "      <td>0</td>\n",
       "      <td>1</td>\n",
       "      <td>1</td>\n",
       "      <td>0</td>\n",
       "      <td>0</td>\n",
       "      <td>1</td>\n",
       "      <td>0</td>\n",
       "      <td>0</td>\n",
       "      <td>0</td>\n",
       "      <td>1</td>\n",
       "      <td>0</td>\n",
       "      <td>1</td>\n",
       "      <td>0</td>\n",
       "      <td>0</td>\n",
       "    </tr>\n",
       "    <tr>\n",
       "      <th>123</th>\n",
       "      <td>54</td>\n",
       "      <td>108</td>\n",
       "      <td>267</td>\n",
       "      <td>167</td>\n",
       "      <td>0.0</td>\n",
       "      <td>0</td>\n",
       "      <td>0</td>\n",
       "      <td>1</td>\n",
       "      <td>0</td>\n",
       "      <td>0</td>\n",
       "      <td>1</td>\n",
       "      <td>0</td>\n",
       "      <td>1</td>\n",
       "      <td>0</td>\n",
       "      <td>1</td>\n",
       "      <td>0</td>\n",
       "      <td>1</td>\n",
       "      <td>0</td>\n",
       "      <td>0</td>\n",
       "    </tr>\n",
       "    <tr>\n",
       "      <th>15</th>\n",
       "      <td>50</td>\n",
       "      <td>120</td>\n",
       "      <td>219</td>\n",
       "      <td>158</td>\n",
       "      <td>1.6</td>\n",
       "      <td>0</td>\n",
       "      <td>0</td>\n",
       "      <td>1</td>\n",
       "      <td>0</td>\n",
       "      <td>0</td>\n",
       "      <td>1</td>\n",
       "      <td>0</td>\n",
       "      <td>0</td>\n",
       "      <td>0</td>\n",
       "      <td>0</td>\n",
       "      <td>1</td>\n",
       "      <td>1</td>\n",
       "      <td>0</td>\n",
       "      <td>0</td>\n",
       "    </tr>\n",
       "    <tr>\n",
       "      <th>125</th>\n",
       "      <td>34</td>\n",
       "      <td>118</td>\n",
       "      <td>210</td>\n",
       "      <td>192</td>\n",
       "      <td>0.7</td>\n",
       "      <td>0</td>\n",
       "      <td>0</td>\n",
       "      <td>0</td>\n",
       "      <td>0</td>\n",
       "      <td>1</td>\n",
       "      <td>1</td>\n",
       "      <td>0</td>\n",
       "      <td>0</td>\n",
       "      <td>0</td>\n",
       "      <td>1</td>\n",
       "      <td>0</td>\n",
       "      <td>1</td>\n",
       "      <td>0</td>\n",
       "      <td>0</td>\n",
       "    </tr>\n",
       "    <tr>\n",
       "      <th>265</th>\n",
       "      <td>66</td>\n",
       "      <td>112</td>\n",
       "      <td>212</td>\n",
       "      <td>132</td>\n",
       "      <td>0.1</td>\n",
       "      <td>1</td>\n",
       "      <td>1</td>\n",
       "      <td>0</td>\n",
       "      <td>0</td>\n",
       "      <td>0</td>\n",
       "      <td>1</td>\n",
       "      <td>0</td>\n",
       "      <td>1</td>\n",
       "      <td>1</td>\n",
       "      <td>1</td>\n",
       "      <td>0</td>\n",
       "      <td>1</td>\n",
       "      <td>0</td>\n",
       "      <td>0</td>\n",
       "    </tr>\n",
       "  </tbody>\n",
       "</table>\n",
       "<p>242 rows × 19 columns</p>\n",
       "</div>"
      ],
      "text/plain": [
       "     age  resting_blood_pressure  cholesterol  max_heart_rate_achieved  \\\n",
       "286   59                     134          204                      162   \n",
       "102   63                     140          195                      179   \n",
       "242   64                     145          212                      132   \n",
       "65    35                     138          183                      182   \n",
       "35    46                     142          177                      160   \n",
       "..   ...                     ...          ...                      ...   \n",
       "156   47                     130          253                      179   \n",
       "123   54                     108          267                      167   \n",
       "15    50                     120          219                      158   \n",
       "125   34                     118          210                      192   \n",
       "265   66                     112          212                      132   \n",
       "\n",
       "     st_depression  num_major_vessels  gender_male  \\\n",
       "286            0.8                  2            1   \n",
       "102            0.0                  2            0   \n",
       "242            2.0                  2            1   \n",
       "65             1.4                  0            0   \n",
       "35             1.4                  0            0   \n",
       "..             ...                ...          ...   \n",
       "156            0.0                  0            1   \n",
       "123            0.0                  0            0   \n",
       "15             1.6                  0            0   \n",
       "125            0.7                  0            0   \n",
       "265            0.1                  1            1   \n",
       "\n",
       "     chest_pain_type_atypical angina  chest_pain_type_non-anginal pain  \\\n",
       "286                                0                                 1   \n",
       "102                                0                                 0   \n",
       "242                                0                                 0   \n",
       "65                                 0                                 0   \n",
       "35                                 1                                 0   \n",
       "..                               ...                               ...   \n",
       "156                                1                                 0   \n",
       "123                                1                                 0   \n",
       "15                                 1                                 0   \n",
       "125                                0                                 0   \n",
       "265                                0                                 0   \n",
       "\n",
       "     chest_pain_type_typical angina  fasting_blood_sugar_lower than 120mg/ml  \\\n",
       "286                               0                                        1   \n",
       "102                               1                                        1   \n",
       "242                               0                                        1   \n",
       "65                                0                                        1   \n",
       "35                                0                                        1   \n",
       "..                              ...                                      ...   \n",
       "156                               0                                        1   \n",
       "123                               0                                        1   \n",
       "15                                0                                        1   \n",
       "125                               1                                        1   \n",
       "265                               0                                        1   \n",
       "\n",
       "     rest_ecg_left ventricular hypertrophy  rest_ecg_normal  \\\n",
       "286                                      0                0   \n",
       "102                                      0                0   \n",
       "242                                      0                1   \n",
       "65                                       0                0   \n",
       "35                                       0                1   \n",
       "..                                     ...              ...   \n",
       "156                                      0                0   \n",
       "123                                      0                1   \n",
       "15                                       0                0   \n",
       "125                                      0                0   \n",
       "265                                      0                1   \n",
       "\n",
       "     exercise_induced_angina_yes  st_slope_flat  st_slope_upsloping  \\\n",
       "286                            0              1                   0   \n",
       "102                            0              1                   0   \n",
       "242                            0              0                   1   \n",
       "65                             0              1                   0   \n",
       "35                             1              0                   0   \n",
       "..                           ...            ...                 ...   \n",
       "156                            0              1                   0   \n",
       "123                            0              1                   0   \n",
       "15                             0              0                   1   \n",
       "125                            0              1                   0   \n",
       "265                            1              1                   0   \n",
       "\n",
       "     thalassemia_fixed defect  thalassemia_normal  \\\n",
       "286                         1                   0   \n",
       "102                         1                   0   \n",
       "242                         0                   1   \n",
       "65                          1                   0   \n",
       "35                          1                   0   \n",
       "..                        ...                 ...   \n",
       "156                         1                   0   \n",
       "123                         1                   0   \n",
       "15                          1                   0   \n",
       "125                         1                   0   \n",
       "265                         1                   0   \n",
       "\n",
       "     thalassemia_reversable defect  \n",
       "286                              0  \n",
       "102                              0  \n",
       "242                              0  \n",
       "65                               0  \n",
       "35                               0  \n",
       "..                             ...  \n",
       "156                              0  \n",
       "123                              0  \n",
       "15                               0  \n",
       "125                              0  \n",
       "265                              0  \n",
       "\n",
       "[242 rows x 19 columns]"
      ]
     },
     "execution_count": 41,
     "metadata": {},
     "output_type": "execute_result"
    }
   ],
   "source": [
    "X_train"
   ]
  },
  {
   "cell_type": "code",
   "execution_count": null,
   "metadata": {
    "executionInfo": {
     "elapsed": 65,
     "status": "aborted",
     "timestamp": 1638773929775,
     "user": {
      "displayName": "ADITYA CHAUHAN",
      "photoUrl": "https://lh3.googleusercontent.com/a-/AOh14GgTVLR3eVYgwEiknljwUC_xAl2-2F94ukwwfwKx1Q=s64",
      "userId": "16268924853158550743"
     },
     "user_tz": -330
    },
    "id": "I4PpoNnwiQG7"
   },
   "outputs": [],
   "source": [
    "X_test"
   ]
  },
  {
   "cell_type": "markdown",
   "metadata": {
    "id": "zYKUvT57iQG7"
   },
   "source": [
    "# LAZY PREDICT TO DECIDE BEST ALGORITHMS"
   ]
  },
  {
   "cell_type": "code",
   "execution_count": null,
   "metadata": {
    "executionInfo": {
     "elapsed": 65,
     "status": "aborted",
     "timestamp": 1638773929775,
     "user": {
      "displayName": "ADITYA CHAUHAN",
      "photoUrl": "https://lh3.googleusercontent.com/a-/AOh14GgTVLR3eVYgwEiknljwUC_xAl2-2F94ukwwfwKx1Q=s64",
      "userId": "16268924853158550743"
     },
     "user_tz": -330
    },
    "id": "E3DSaZS-iQG8"
   },
   "outputs": [],
   "source": [
    "import lazypredict\n",
    "from lazypredict.Supervised import LazyClassifier"
   ]
  },
  {
   "cell_type": "code",
   "execution_count": null,
   "metadata": {
    "executionInfo": {
     "elapsed": 65,
     "status": "aborted",
     "timestamp": 1638773929776,
     "user": {
      "displayName": "ADITYA CHAUHAN",
      "photoUrl": "https://lh3.googleusercontent.com/a-/AOh14GgTVLR3eVYgwEiknljwUC_xAl2-2F94ukwwfwKx1Q=s64",
      "userId": "16268924853158550743"
     },
     "user_tz": -330
    },
    "id": "llVCgAuAiQG8"
   },
   "outputs": [],
   "source": [
    "# Defines and builds the lazyclassifier\n",
    "clf = LazyClassifier(verbose=0,ignore_warnings=True, custom_metric=None)\n",
    "models_train,predictions_train = clf.fit(X_train, X_train, y_train, y_train)\n",
    "models_test,predictions_test = clf.fit(X_train, X_test, y_train, y_test)\n",
    "\n",
    "# Prints the model performance\n",
    "models_train"
   ]
  },
  {
   "cell_type": "markdown",
   "metadata": {
    "id": "WmgKeIeTiQG9"
   },
   "source": [
    "# DECISION TREE CLASSIFIER"
   ]
  },
  {
   "cell_type": "code",
   "execution_count": 43,
   "metadata": {
    "executionInfo": {
     "elapsed": 65,
     "status": "aborted",
     "timestamp": 1638773929776,
     "user": {
      "displayName": "ADITYA CHAUHAN",
      "photoUrl": "https://lh3.googleusercontent.com/a-/AOh14GgTVLR3eVYgwEiknljwUC_xAl2-2F94ukwwfwKx1Q=s64",
      "userId": "16268924853158550743"
     },
     "user_tz": -330
    },
    "id": "cR2RxwsOiQG9"
   },
   "outputs": [
    {
     "name": "stdout",
     "output_type": "stream",
     "text": [
      "Decision Tree using Gini Index\n",
      "Accuracy is  75.40983606557377\n"
     ]
    }
   ],
   "source": [
    "dt_clf_gini = DecisionTreeClassifier(criterion = \"gini\",\n",
    "                                     random_state = 100,\n",
    "                                     max_depth = 5,\n",
    "                                     min_samples_leaf = 5)\n",
    " \n",
    "dt_clf_gini.fit(X_train, Y_train)\n",
    "y_pred_gini = dt_clf_gini.predict(X_test)\n",
    " \n",
    "print (\"Decision Tree using Gini Index\\nAccuracy is \",accuracy_score(Y_test, y_pred_gini)*100 )"
   ]
  },
  {
   "cell_type": "code",
   "execution_count": null,
   "metadata": {
    "executionInfo": {
     "elapsed": 65,
     "status": "aborted",
     "timestamp": 1638773929776,
     "user": {
      "displayName": "ADITYA CHAUHAN",
      "photoUrl": "https://lh3.googleusercontent.com/a-/AOh14GgTVLR3eVYgwEiknljwUC_xAl2-2F94ukwwfwKx1Q=s64",
      "userId": "16268924853158550743"
     },
     "user_tz": -330
    },
    "id": "uVvppM4FiQG-"
   },
   "outputs": [],
   "source": [
    "model = RandomForestClassifier(max_depth=5)\n",
    "model.fit(X_train, y_train)"
   ]
  },
  {
   "cell_type": "code",
   "execution_count": null,
   "metadata": {
    "executionInfo": {
     "elapsed": 64,
     "status": "aborted",
     "timestamp": 1638773929776,
     "user": {
      "displayName": "ADITYA CHAUHAN",
      "photoUrl": "https://lh3.googleusercontent.com/a-/AOh14GgTVLR3eVYgwEiknljwUC_xAl2-2F94ukwwfwKx1Q=s64",
      "userId": "16268924853158550743"
     },
     "user_tz": -330
    },
    "id": "YjaKcmJ_iQG-"
   },
   "outputs": [],
   "source": [
    "estimator = model.estimators_[1]\n",
    "feature_names = [i for i in X_train.columns]\n",
    "\n",
    "y_train_str = y_train.astype('str')\n",
    "y_train_str[y_train_str == '0'] = 'no disease'\n",
    "y_train_str[y_train_str == '1'] = 'disease'\n",
    "y_train_str = y_train_str.values"
   ]
  },
  {
   "cell_type": "code",
   "execution_count": null,
   "metadata": {
    "executionInfo": {
     "elapsed": 65,
     "status": "aborted",
     "timestamp": 1638773929777,
     "user": {
      "displayName": "ADITYA CHAUHAN",
      "photoUrl": "https://lh3.googleusercontent.com/a-/AOh14GgTVLR3eVYgwEiknljwUC_xAl2-2F94ukwwfwKx1Q=s64",
      "userId": "16268924853158550743"
     },
     "user_tz": -330
    },
    "id": "fL4e9t72iQG-"
   },
   "outputs": [],
   "source": [
    "#code from https://towardsdatascience.com/how-to-visualize-a-decision-tree-from-a-random-forest-in-python-using-scikit-learn-38ad2d75f21c\n",
    "\n",
    "export_graphviz(estimator, out_file='tree.dot', feature_names = feature_names,\n",
    "                class_names = y_train_str,\n",
    "                rounded = True, proportion = True, \n",
    "                label='root',\n",
    "                precision = 2, filled = True)\n",
    "\n",
    "from subprocess import call\n",
    "call(['dot', '-Tpng', 'tree.dot', '-o', 'tree.png', '-Gdpi=100'])\n",
    "\n",
    "from IPython.display import Image\n",
    "Image(filename = 'tree.png')"
   ]
  },
  {
   "cell_type": "code",
   "execution_count": 44,
   "metadata": {
    "executionInfo": {
     "elapsed": 65,
     "status": "aborted",
     "timestamp": 1638773929777,
     "user": {
      "displayName": "ADITYA CHAUHAN",
      "photoUrl": "https://lh3.googleusercontent.com/a-/AOh14GgTVLR3eVYgwEiknljwUC_xAl2-2F94ukwwfwKx1Q=s64",
      "userId": "16268924853158550743"
     },
     "user_tz": -330
    },
    "id": "VNbUi14FiQG_"
   },
   "outputs": [
    {
     "ename": "NameError",
     "evalue": "name 'model' is not defined",
     "output_type": "error",
     "traceback": [
      "\u001b[1;31m---------------------------------------------------------------------------\u001b[0m",
      "\u001b[1;31mNameError\u001b[0m                                 Traceback (most recent call last)",
      "\u001b[1;32m<ipython-input-44-021f9cf16c48>\u001b[0m in \u001b[0;36m<module>\u001b[1;34m\u001b[0m\n\u001b[1;32m----> 1\u001b[1;33m \u001b[0my_predict\u001b[0m \u001b[1;33m=\u001b[0m \u001b[0mmodel\u001b[0m\u001b[1;33m.\u001b[0m\u001b[0mpredict\u001b[0m\u001b[1;33m(\u001b[0m\u001b[0mX_test\u001b[0m\u001b[1;33m)\u001b[0m\u001b[1;33m\u001b[0m\u001b[1;33m\u001b[0m\u001b[0m\n\u001b[0m\u001b[0;32m      2\u001b[0m \u001b[0my_pred_quant\u001b[0m \u001b[1;33m=\u001b[0m \u001b[0mmodel\u001b[0m\u001b[1;33m.\u001b[0m\u001b[0mpredict_proba\u001b[0m\u001b[1;33m(\u001b[0m\u001b[0mX_test\u001b[0m\u001b[1;33m)\u001b[0m\u001b[1;33m[\u001b[0m\u001b[1;33m:\u001b[0m\u001b[1;33m,\u001b[0m \u001b[1;36m1\u001b[0m\u001b[1;33m]\u001b[0m\u001b[1;33m\u001b[0m\u001b[1;33m\u001b[0m\u001b[0m\n\u001b[0;32m      3\u001b[0m \u001b[0my_pred_bin\u001b[0m \u001b[1;33m=\u001b[0m \u001b[0mmodel\u001b[0m\u001b[1;33m.\u001b[0m\u001b[0mpredict\u001b[0m\u001b[1;33m(\u001b[0m\u001b[0mX_test\u001b[0m\u001b[1;33m)\u001b[0m\u001b[1;33m\u001b[0m\u001b[1;33m\u001b[0m\u001b[0m\n",
      "\u001b[1;31mNameError\u001b[0m: name 'model' is not defined"
     ]
    }
   ],
   "source": [
    "y_predict = model.predict(X_test)\n",
    "y_pred_quant = model.predict_proba(X_test)[:, 1]\n",
    "y_pred_bin = model.predict(X_test)"
   ]
  },
  {
   "cell_type": "code",
   "execution_count": 46,
   "metadata": {},
   "outputs": [
    {
     "name": "stdout",
     "output_type": "stream",
     "text": [
      "RandomForest using Gini Index\n",
      "Accuracy is  80.32786885245902\n"
     ]
    }
   ],
   "source": [
    "random=RandomForestClassifier(criterion='gini',max_depth=5,random_state=100,bootstrap=True,oob_score=False)\n",
    "random.fit(X_train,Y_train)\n",
    "pred_random=random.predict(X_test)\n",
    "print(\"RandomForest using Gini Index\\nAccuracy is \",accuracy_score(Y_test, pred_random)*100)"
   ]
  },
  {
   "cell_type": "code",
   "execution_count": 47,
   "metadata": {},
   "outputs": [],
   "source": [
    "import pickle\n",
    "with open('heart_disease.pkl','wb')as file:pickle.dump(pred_random,file)"
   ]
  },
  {
   "cell_type": "markdown",
   "metadata": {
    "id": "ayWBgLDhiQG_"
   },
   "source": [
    "# LOGISTIC REGRESSION "
   ]
  },
  {
   "cell_type": "code",
   "execution_count": null,
   "metadata": {
    "executionInfo": {
     "elapsed": 64,
     "status": "aborted",
     "timestamp": 1638773929777,
     "user": {
      "displayName": "ADITYA CHAUHAN",
      "photoUrl": "https://lh3.googleusercontent.com/a-/AOh14GgTVLR3eVYgwEiknljwUC_xAl2-2F94ukwwfwKx1Q=s64",
      "userId": "16268924853158550743"
     },
     "user_tz": -330
    },
    "id": "65NawYeliQG_"
   },
   "outputs": [],
   "source": [
    "lr = LogisticRegression()\n",
    "lr.fit(X_train,Y_train)\n",
    "\n",
    "print(f\"Accuracy: {lr.score(X_test,Y_test):0.3f}\")"
   ]
  },
  {
   "cell_type": "markdown",
   "metadata": {
    "id": "TVuU6ZYviQG_"
   },
   "source": [
    "# NAIVE BAYES"
   ]
  },
  {
   "cell_type": "code",
   "execution_count": null,
   "metadata": {
    "executionInfo": {
     "elapsed": 65,
     "status": "aborted",
     "timestamp": 1638773929778,
     "user": {
      "displayName": "ADITYA CHAUHAN",
      "photoUrl": "https://lh3.googleusercontent.com/a-/AOh14GgTVLR3eVYgwEiknljwUC_xAl2-2F94ukwwfwKx1Q=s64",
      "userId": "16268924853158550743"
     },
     "user_tz": -330
    },
    "id": "zSjLHpsGiQG_"
   },
   "outputs": [],
   "source": []
  },
  {
   "cell_type": "markdown",
   "metadata": {
    "id": "D5ayrRbliQHA"
   },
   "source": [
    "# K-NN"
   ]
  },
  {
   "cell_type": "code",
   "execution_count": null,
   "metadata": {
    "executionInfo": {
     "elapsed": 65,
     "status": "aborted",
     "timestamp": 1638773929778,
     "user": {
      "displayName": "ADITYA CHAUHAN",
      "photoUrl": "https://lh3.googleusercontent.com/a-/AOh14GgTVLR3eVYgwEiknljwUC_xAl2-2F94ukwwfwKx1Q=s64",
      "userId": "16268924853158550743"
     },
     "user_tz": -330
    },
    "id": "zk3z_pLFiQHA"
   },
   "outputs": [],
   "source": []
  },
  {
   "cell_type": "markdown",
   "metadata": {
    "id": "SkV_u6kEiQHA"
   },
   "source": [
    "# STOCHASTIC GRADIENT DESCENT"
   ]
  },
  {
   "cell_type": "code",
   "execution_count": null,
   "metadata": {
    "executionInfo": {
     "elapsed": 65,
     "status": "aborted",
     "timestamp": 1638773929778,
     "user": {
      "displayName": "ADITYA CHAUHAN",
      "photoUrl": "https://lh3.googleusercontent.com/a-/AOh14GgTVLR3eVYgwEiknljwUC_xAl2-2F94ukwwfwKx1Q=s64",
      "userId": "16268924853158550743"
     },
     "user_tz": -330
    },
    "id": "1kOKYYoUiQHA"
   },
   "outputs": [],
   "source": []
  },
  {
   "cell_type": "markdown",
   "metadata": {
    "id": "RutW4riViQHA"
   },
   "source": [
    "# SUPPORT VECTOR MACHINE"
   ]
  },
  {
   "cell_type": "code",
   "execution_count": null,
   "metadata": {
    "executionInfo": {
     "elapsed": 66,
     "status": "aborted",
     "timestamp": 1638773929779,
     "user": {
      "displayName": "ADITYA CHAUHAN",
      "photoUrl": "https://lh3.googleusercontent.com/a-/AOh14GgTVLR3eVYgwEiknljwUC_xAl2-2F94ukwwfwKx1Q=s64",
      "userId": "16268924853158550743"
     },
     "user_tz": -330
    },
    "id": "tvbpjvPSiQHB"
   },
   "outputs": [],
   "source": []
  },
  {
   "cell_type": "markdown",
   "metadata": {
    "id": "6JXDlpXWiQHB"
   },
   "source": [
    "# PERFORMANCE ANALYSIS"
   ]
  },
  {
   "cell_type": "code",
   "execution_count": null,
   "metadata": {
    "executionInfo": {
     "elapsed": 65,
     "status": "aborted",
     "timestamp": 1638773929779,
     "user": {
      "displayName": "ADITYA CHAUHAN",
      "photoUrl": "https://lh3.googleusercontent.com/a-/AOh14GgTVLR3eVYgwEiknljwUC_xAl2-2F94ukwwfwKx1Q=s64",
      "userId": "16268924853158550743"
     },
     "user_tz": -330
    },
    "id": "4i6SNhG4iQHB"
   },
   "outputs": [],
   "source": [
    "confusion_matrix = confusion_matrix(y_test, y_pred_bin)\n",
    "confusion_matrix"
   ]
  },
  {
   "cell_type": "code",
   "execution_count": null,
   "metadata": {
    "executionInfo": {
     "elapsed": 65,
     "status": "aborted",
     "timestamp": 1638773929779,
     "user": {
      "displayName": "ADITYA CHAUHAN",
      "photoUrl": "https://lh3.googleusercontent.com/a-/AOh14GgTVLR3eVYgwEiknljwUC_xAl2-2F94ukwwfwKx1Q=s64",
      "userId": "16268924853158550743"
     },
     "user_tz": -330
    },
    "id": "8IYfCFzJiQHB"
   },
   "outputs": [],
   "source": [
    "total=sum(sum(confusion_matrix))\n",
    "\n",
    "sensitivity = confusion_matrix[0,0]/(confusion_matrix[0,0]+confusion_matrix[1,0])\n",
    "print('Sensitivity : ', sensitivity )\n",
    "\n",
    "specificity = confusion_matrix[1,1]/(confusion_matrix[1,1]+confusion_matrix[0,1])\n",
    "print('Specificity : ', specificity)"
   ]
  },
  {
   "cell_type": "code",
   "execution_count": null,
   "metadata": {
    "executionInfo": {
     "elapsed": 66,
     "status": "aborted",
     "timestamp": 1638773929780,
     "user": {
      "displayName": "ADITYA CHAUHAN",
      "photoUrl": "https://lh3.googleusercontent.com/a-/AOh14GgTVLR3eVYgwEiknljwUC_xAl2-2F94ukwwfwKx1Q=s64",
      "userId": "16268924853158550743"
     },
     "user_tz": -330
    },
    "id": "6PH9ozwGiQHB"
   },
   "outputs": [],
   "source": [
    "fpr, tpr, thresholds = roc_curve(y_test, y_pred_quant)\n",
    "\n",
    "fig, ax = plt.subplots()\n",
    "ax.plot(fpr, tpr)\n",
    "ax.plot([0, 1], [0, 1], transform=ax.transAxes, ls=\"--\", c=\".3\")\n",
    "plt.xlim([0.0, 1.0])\n",
    "plt.ylim([0.0, 1.0])\n",
    "plt.rcParams['font.size'] = 12\n",
    "plt.title('ROC curve for heart attack classifier')\n",
    "plt.xlabel('False Positive Rate (1 - Specificity)')\n",
    "plt.ylabel('True Positive Rate (Sensitivity)')\n",
    "plt.grid(True)"
   ]
  },
  {
   "cell_type": "code",
   "execution_count": null,
   "metadata": {
    "executionInfo": {
     "elapsed": 66,
     "status": "aborted",
     "timestamp": 1638773929780,
     "user": {
      "displayName": "ADITYA CHAUHAN",
      "photoUrl": "https://lh3.googleusercontent.com/a-/AOh14GgTVLR3eVYgwEiknljwUC_xAl2-2F94ukwwfwKx1Q=s64",
      "userId": "16268924853158550743"
     },
     "user_tz": -330
    },
    "id": "SI8hVSoMiQHB"
   },
   "outputs": [],
   "source": [
    "auc(fpr, tpr)"
   ]
  },
  {
   "cell_type": "code",
   "execution_count": null,
   "metadata": {
    "executionInfo": {
     "elapsed": 66,
     "status": "aborted",
     "timestamp": 1638773929780,
     "user": {
      "displayName": "ADITYA CHAUHAN",
      "photoUrl": "https://lh3.googleusercontent.com/a-/AOh14GgTVLR3eVYgwEiknljwUC_xAl2-2F94ukwwfwKx1Q=s64",
      "userId": "16268924853158550743"
     },
     "user_tz": -330
    },
    "id": "ggJMwIjUiQHC"
   },
   "outputs": [],
   "source": [
    "perm = PermutationImportance(model, random_state=1).fit(X_test, Y_test)\n",
    "eli5.show_weights(perm, feature_names = X_test.columns.tolist())"
   ]
  },
  {
   "cell_type": "code",
   "execution_count": null,
   "metadata": {
    "executionInfo": {
     "elapsed": 85,
     "status": "aborted",
     "timestamp": 1638773929799,
     "user": {
      "displayName": "ADITYA CHAUHAN",
      "photoUrl": "https://lh3.googleusercontent.com/a-/AOh14GgTVLR3eVYgwEiknljwUC_xAl2-2F94ukwwfwKx1Q=s64",
      "userId": "16268924853158550743"
     },
     "user_tz": -330
    },
    "id": "JIEWwdD1iQHC"
   },
   "outputs": [],
   "source": [
    "base_features = x.columns.values.tolist()\n",
    "#base_features.remove('target')\n",
    "\n",
    "feat_name = 'num_major_vessels'\n",
    "pdp_dist = pdp.pdp_isolate(model=model, dataset=X_test, model_features=base_features, feature=feat_name)\n",
    "\n",
    "pdp.pdp_plot(pdp_dist, feat_name)\n",
    "plt.show()"
   ]
  },
  {
   "cell_type": "code",
   "execution_count": null,
   "metadata": {
    "executionInfo": {
     "elapsed": 85,
     "status": "aborted",
     "timestamp": 1638773929799,
     "user": {
      "displayName": "ADITYA CHAUHAN",
      "photoUrl": "https://lh3.googleusercontent.com/a-/AOh14GgTVLR3eVYgwEiknljwUC_xAl2-2F94ukwwfwKx1Q=s64",
      "userId": "16268924853158550743"
     },
     "user_tz": -330
    },
    "id": "imO3Q9AoiQHJ"
   },
   "outputs": [],
   "source": [
    "feat_name = 'age'\n",
    "pdp_dist = pdp.pdp_isolate(model=model, dataset=X_test, model_features=base_features, feature=feat_name)\n",
    "\n",
    "pdp.pdp_plot(pdp_dist, feat_name)\n",
    "plt.show()"
   ]
  },
  {
   "cell_type": "code",
   "execution_count": null,
   "metadata": {
    "executionInfo": {
     "elapsed": 86,
     "status": "aborted",
     "timestamp": 1638773929800,
     "user": {
      "displayName": "ADITYA CHAUHAN",
      "photoUrl": "https://lh3.googleusercontent.com/a-/AOh14GgTVLR3eVYgwEiknljwUC_xAl2-2F94ukwwfwKx1Q=s64",
      "userId": "16268924853158550743"
     },
     "user_tz": -330
    },
    "id": "GBFnyITEiQHK"
   },
   "outputs": [],
   "source": [
    "feat_name = 'st_depression'\n",
    "pdp_dist = pdp.pdp_isolate(model=model, dataset=X_test, model_features=base_features, feature=feat_name)\n",
    "\n",
    "pdp.pdp_plot(pdp_dist, feat_name)\n",
    "plt.show()"
   ]
  },
  {
   "cell_type": "code",
   "execution_count": null,
   "metadata": {
    "executionInfo": {
     "elapsed": 85,
     "status": "aborted",
     "timestamp": 1638773929800,
     "user": {
      "displayName": "ADITYA CHAUHAN",
      "photoUrl": "https://lh3.googleusercontent.com/a-/AOh14GgTVLR3eVYgwEiknljwUC_xAl2-2F94ukwwfwKx1Q=s64",
      "userId": "16268924853158550743"
     },
     "user_tz": -330
    },
    "id": "9Wmvx9MNiQHK"
   },
   "outputs": [],
   "source": [
    "inter1  =  pdp.pdp_interact(model=model, dataset=X_test, model_features=base_features, features=['st_slope_upsloping', 'st_depression'])\n",
    "\n",
    "pdp.pdp_interact_plot(pdp_interact_out=inter1, feature_names=['st_slope_upsloping', 'st_depression'], plot_type='contour')\n",
    "plt.show()\n",
    "\n",
    "inter1  =  pdp.pdp_interact(model=model, dataset=X_test, model_features=base_features, features=['st_slope_flat', 'st_depression'])\n",
    "\n",
    "pdp.pdp_interact_plot(pdp_interact_out=inter1, feature_names=['st_slope_flat', 'st_depression'], plot_type='contour')\n",
    "plt.show()"
   ]
  },
  {
   "cell_type": "code",
   "execution_count": null,
   "metadata": {
    "executionInfo": {
     "elapsed": 85,
     "status": "aborted",
     "timestamp": 1638773929800,
     "user": {
      "displayName": "ADITYA CHAUHAN",
      "photoUrl": "https://lh3.googleusercontent.com/a-/AOh14GgTVLR3eVYgwEiknljwUC_xAl2-2F94ukwwfwKx1Q=s64",
      "userId": "16268924853158550743"
     },
     "user_tz": -330
    },
    "id": "JaE8qnOBiQHK"
   },
   "outputs": [],
   "source": [
    "explainer = shap.TreeExplainer(model)\n",
    "shap_values = explainer.shap_values(X_test)\n",
    "\n",
    "shap.summary_plot(shap_values[1], X_test, plot_type=\"bar\")"
   ]
  },
  {
   "cell_type": "code",
   "execution_count": null,
   "metadata": {
    "executionInfo": {
     "elapsed": 85,
     "status": "aborted",
     "timestamp": 1638773929800,
     "user": {
      "displayName": "ADITYA CHAUHAN",
      "photoUrl": "https://lh3.googleusercontent.com/a-/AOh14GgTVLR3eVYgwEiknljwUC_xAl2-2F94ukwwfwKx1Q=s64",
      "userId": "16268924853158550743"
     },
     "user_tz": -330
    },
    "id": "pmYAgvm1iQHL"
   },
   "outputs": [],
   "source": [
    "shap.summary_plot(shap_values[1], X_test)"
   ]
  },
  {
   "cell_type": "code",
   "execution_count": null,
   "metadata": {
    "executionInfo": {
     "elapsed": 85,
     "status": "aborted",
     "timestamp": 1638773929800,
     "user": {
      "displayName": "ADITYA CHAUHAN",
      "photoUrl": "https://lh3.googleusercontent.com/a-/AOh14GgTVLR3eVYgwEiknljwUC_xAl2-2F94ukwwfwKx1Q=s64",
      "userId": "16268924853158550743"
     },
     "user_tz": -330
    },
    "id": "iWvjVUypiQHM"
   },
   "outputs": [],
   "source": [
    "def heart_disease_risk_factors(model, patient):\n",
    "\n",
    "    explainer = shap.TreeExplainer(model)\n",
    "    shap_values = explainer.shap_values(patient)\n",
    "    shap.initjs()\n",
    "    return shap.force_plot(explainer.expected_value[1], shap_values[1], patient)"
   ]
  },
  {
   "cell_type": "code",
   "execution_count": null,
   "metadata": {
    "executionInfo": {
     "elapsed": 86,
     "status": "aborted",
     "timestamp": 1638773929801,
     "user": {
      "displayName": "ADITYA CHAUHAN",
      "photoUrl": "https://lh3.googleusercontent.com/a-/AOh14GgTVLR3eVYgwEiknljwUC_xAl2-2F94ukwwfwKx1Q=s64",
      "userId": "16268924853158550743"
     },
     "user_tz": -330
    },
    "id": "ImwUruMKiQHM"
   },
   "outputs": [],
   "source": [
    "data_for_prediction = X_test.iloc[1,:].astype(float)\n",
    "heart_disease_risk_factors(model, data_for_prediction)"
   ]
  },
  {
   "cell_type": "code",
   "execution_count": null,
   "metadata": {
    "executionInfo": {
     "elapsed": 85,
     "status": "aborted",
     "timestamp": 1638773929801,
     "user": {
      "displayName": "ADITYA CHAUHAN",
      "photoUrl": "https://lh3.googleusercontent.com/a-/AOh14GgTVLR3eVYgwEiknljwUC_xAl2-2F94ukwwfwKx1Q=s64",
      "userId": "16268924853158550743"
     },
     "user_tz": -330
    },
    "id": "2kLKSvfViQHN"
   },
   "outputs": [],
   "source": [
    "data_for_prediction = X_test.iloc[3,:].astype(float)\n",
    "heart_disease_risk_factors(model, data_for_prediction)"
   ]
  },
  {
   "cell_type": "code",
   "execution_count": null,
   "metadata": {
    "executionInfo": {
     "elapsed": 85,
     "status": "aborted",
     "timestamp": 1638773929801,
     "user": {
      "displayName": "ADITYA CHAUHAN",
      "photoUrl": "https://lh3.googleusercontent.com/a-/AOh14GgTVLR3eVYgwEiknljwUC_xAl2-2F94ukwwfwKx1Q=s64",
      "userId": "16268924853158550743"
     },
     "user_tz": -330
    },
    "id": "9skD5b6RiQHN"
   },
   "outputs": [],
   "source": [
    "ax2 = fig.add_subplot(224)\n",
    "shap.dependence_plot('num_major_vessels', shap_values[1], X_test, interaction_index=\"st_depression\")"
   ]
  },
  {
   "cell_type": "code",
   "execution_count": null,
   "metadata": {
    "executionInfo": {
     "elapsed": 86,
     "status": "aborted",
     "timestamp": 1638773929802,
     "user": {
      "displayName": "ADITYA CHAUHAN",
      "photoUrl": "https://lh3.googleusercontent.com/a-/AOh14GgTVLR3eVYgwEiknljwUC_xAl2-2F94ukwwfwKx1Q=s64",
      "userId": "16268924853158550743"
     },
     "user_tz": -330
    },
    "id": "86EsnFvyiQHN"
   },
   "outputs": [],
   "source": [
    "shap_values = explainer.shap_values(X_train.iloc[:50])\n",
    "shap.force_plot(explainer.expected_value[1], shap_values[1], X_test.iloc[:50])"
   ]
  },
  {
   "cell_type": "code",
   "execution_count": null,
   "metadata": {
    "executionInfo": {
     "elapsed": 86,
     "status": "aborted",
     "timestamp": 1638773929802,
     "user": {
      "displayName": "ADITYA CHAUHAN",
      "photoUrl": "https://lh3.googleusercontent.com/a-/AOh14GgTVLR3eVYgwEiknljwUC_xAl2-2F94ukwwfwKx1Q=s64",
      "userId": "16268924853158550743"
     },
     "user_tz": -330
    },
    "id": "lSwuhs1UiQHN"
   },
   "outputs": [],
   "source": []
  }
 ],
 "metadata": {
  "colab": {
   "name": "Heart Attack_Decision_Trees.ipynb",
   "provenance": []
  },
  "kernelspec": {
   "display_name": "Python 3",
   "language": "python",
   "name": "python3"
  },
  "language_info": {
   "codemirror_mode": {
    "name": "ipython",
    "version": 3
   },
   "file_extension": ".py",
   "mimetype": "text/x-python",
   "name": "python",
   "nbconvert_exporter": "python",
   "pygments_lexer": "ipython3",
   "version": "3.8.8"
  }
 },
 "nbformat": 4,
 "nbformat_minor": 1
}
